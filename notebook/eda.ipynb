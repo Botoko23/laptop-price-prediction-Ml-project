{
 "cells": [
  {
   "cell_type": "code",
   "execution_count": 483,
   "metadata": {},
   "outputs": [],
   "source": [
    "import pandas as pd \n",
    "import numpy as np\n",
    "import seaborn as sns\n",
    "import matplotlib.pyplot as plt"
   ]
  },
  {
   "attachments": {},
   "cell_type": "markdown",
   "metadata": {},
   "source": [
    "## 1 Quick look at the data"
   ]
  },
  {
   "cell_type": "code",
   "execution_count": 484,
   "metadata": {},
   "outputs": [
    {
     "data": {
      "text/html": [
       "<div>\n",
       "<style scoped>\n",
       "    .dataframe tbody tr th:only-of-type {\n",
       "        vertical-align: middle;\n",
       "    }\n",
       "\n",
       "    .dataframe tbody tr th {\n",
       "        vertical-align: top;\n",
       "    }\n",
       "\n",
       "    .dataframe thead th {\n",
       "        text-align: right;\n",
       "    }\n",
       "</style>\n",
       "<table border=\"1\" class=\"dataframe\">\n",
       "  <thead>\n",
       "    <tr style=\"text-align: right;\">\n",
       "      <th></th>\n",
       "      <th>Company</th>\n",
       "      <th>Product</th>\n",
       "      <th>TypeName</th>\n",
       "      <th>Inches</th>\n",
       "      <th>ScreenResolution</th>\n",
       "      <th>Cpu</th>\n",
       "      <th>Ram</th>\n",
       "      <th>Memory</th>\n",
       "      <th>Gpu</th>\n",
       "      <th>OpSys</th>\n",
       "      <th>Weight</th>\n",
       "      <th>Price_euros</th>\n",
       "    </tr>\n",
       "  </thead>\n",
       "  <tbody>\n",
       "    <tr>\n",
       "      <th>0</th>\n",
       "      <td>Apple</td>\n",
       "      <td>MacBook Pro</td>\n",
       "      <td>Ultrabook</td>\n",
       "      <td>13.3</td>\n",
       "      <td>IPS Panel Retina Display 2560x1600</td>\n",
       "      <td>Intel Core i5 2.3GHz</td>\n",
       "      <td>8GB</td>\n",
       "      <td>128GB SSD</td>\n",
       "      <td>Intel Iris Plus Graphics 640</td>\n",
       "      <td>macOS</td>\n",
       "      <td>1.37kg</td>\n",
       "      <td>1339.69</td>\n",
       "    </tr>\n",
       "    <tr>\n",
       "      <th>1</th>\n",
       "      <td>Apple</td>\n",
       "      <td>Macbook Air</td>\n",
       "      <td>Ultrabook</td>\n",
       "      <td>13.3</td>\n",
       "      <td>1440x900</td>\n",
       "      <td>Intel Core i5 1.8GHz</td>\n",
       "      <td>8GB</td>\n",
       "      <td>128GB Flash Storage</td>\n",
       "      <td>Intel HD Graphics 6000</td>\n",
       "      <td>macOS</td>\n",
       "      <td>1.34kg</td>\n",
       "      <td>898.94</td>\n",
       "    </tr>\n",
       "    <tr>\n",
       "      <th>2</th>\n",
       "      <td>HP</td>\n",
       "      <td>250 G6</td>\n",
       "      <td>Notebook</td>\n",
       "      <td>15.6</td>\n",
       "      <td>Full HD 1920x1080</td>\n",
       "      <td>Intel Core i5 7200U 2.5GHz</td>\n",
       "      <td>8GB</td>\n",
       "      <td>256GB SSD</td>\n",
       "      <td>Intel HD Graphics 620</td>\n",
       "      <td>No OS</td>\n",
       "      <td>1.86kg</td>\n",
       "      <td>575.00</td>\n",
       "    </tr>\n",
       "    <tr>\n",
       "      <th>3</th>\n",
       "      <td>Apple</td>\n",
       "      <td>MacBook Pro</td>\n",
       "      <td>Ultrabook</td>\n",
       "      <td>15.4</td>\n",
       "      <td>IPS Panel Retina Display 2880x1800</td>\n",
       "      <td>Intel Core i7 2.7GHz</td>\n",
       "      <td>16GB</td>\n",
       "      <td>512GB SSD</td>\n",
       "      <td>AMD Radeon Pro 455</td>\n",
       "      <td>macOS</td>\n",
       "      <td>1.83kg</td>\n",
       "      <td>2537.45</td>\n",
       "    </tr>\n",
       "    <tr>\n",
       "      <th>4</th>\n",
       "      <td>Apple</td>\n",
       "      <td>MacBook Pro</td>\n",
       "      <td>Ultrabook</td>\n",
       "      <td>13.3</td>\n",
       "      <td>IPS Panel Retina Display 2560x1600</td>\n",
       "      <td>Intel Core i5 3.1GHz</td>\n",
       "      <td>8GB</td>\n",
       "      <td>256GB SSD</td>\n",
       "      <td>Intel Iris Plus Graphics 650</td>\n",
       "      <td>macOS</td>\n",
       "      <td>1.37kg</td>\n",
       "      <td>1803.60</td>\n",
       "    </tr>\n",
       "  </tbody>\n",
       "</table>\n",
       "</div>"
      ],
      "text/plain": [
       "  Company      Product   TypeName  Inches                    ScreenResolution  \\\n",
       "0   Apple  MacBook Pro  Ultrabook    13.3  IPS Panel Retina Display 2560x1600   \n",
       "1   Apple  Macbook Air  Ultrabook    13.3                            1440x900   \n",
       "2      HP       250 G6   Notebook    15.6                   Full HD 1920x1080   \n",
       "3   Apple  MacBook Pro  Ultrabook    15.4  IPS Panel Retina Display 2880x1800   \n",
       "4   Apple  MacBook Pro  Ultrabook    13.3  IPS Panel Retina Display 2560x1600   \n",
       "\n",
       "                          Cpu   Ram               Memory  \\\n",
       "0        Intel Core i5 2.3GHz   8GB            128GB SSD   \n",
       "1        Intel Core i5 1.8GHz   8GB  128GB Flash Storage   \n",
       "2  Intel Core i5 7200U 2.5GHz   8GB            256GB SSD   \n",
       "3        Intel Core i7 2.7GHz  16GB            512GB SSD   \n",
       "4        Intel Core i5 3.1GHz   8GB            256GB SSD   \n",
       "\n",
       "                            Gpu  OpSys  Weight  Price_euros  \n",
       "0  Intel Iris Plus Graphics 640  macOS  1.37kg      1339.69  \n",
       "1        Intel HD Graphics 6000  macOS  1.34kg       898.94  \n",
       "2         Intel HD Graphics 620  No OS  1.86kg       575.00  \n",
       "3            AMD Radeon Pro 455  macOS  1.83kg      2537.45  \n",
       "4  Intel Iris Plus Graphics 650  macOS  1.37kg      1803.60  "
      ]
     },
     "execution_count": 484,
     "metadata": {},
     "output_type": "execute_result"
    }
   ],
   "source": [
    "# Read data\n",
    "df = pd.read_csv('data/laptop_price.csv', encoding='latin-1', usecols=lambda column: column != 'laptop_ID')\n",
    "df.head(5)"
   ]
  },
  {
   "attachments": {},
   "cell_type": "markdown",
   "metadata": {},
   "source": [
    "### Shape of the data"
   ]
  },
  {
   "cell_type": "code",
   "execution_count": 485,
   "metadata": {},
   "outputs": [
    {
     "data": {
      "text/plain": [
       "(1303, 12)"
      ]
     },
     "execution_count": 485,
     "metadata": {},
     "output_type": "execute_result"
    }
   ],
   "source": [
    "df.shape"
   ]
  },
  {
   "attachments": {},
   "cell_type": "markdown",
   "metadata": {},
   "source": [
    "### Dataset Information"
   ]
  },
  {
   "attachments": {},
   "cell_type": "markdown",
   "metadata": {},
   "source": [
    "#### 1 Company- String -Laptop Manufacturer\n",
    "#### 2 Product -String -Brand and Model\n",
    "#### 3 TypeName -String -Type (Notebook, Ultrabook, Gaming, etc.)\n",
    "#### 4 Inches -Numeric- Screen Size\n",
    "#### 5 ScreenResolution -String- Screen Resolution\n",
    "#### 6 Cpu- String -Central Processing Unit (CPU)\n",
    "#### 7 Ram -String- Laptop RAM\n",
    "#### 8 Memory -String- Hard Disk / SSD Memory\n",
    "#### 9 GPU -String- Graphics Processing Units (GPU)\n",
    "#### 10 OpSys -String- Operating System\n",
    "#### 11 Weight -String- Laptop Weight\n",
    "#### 12 Price_euros -Numeric- Price (Euro)"
   ]
  },
  {
   "attachments": {},
   "cell_type": "markdown",
   "metadata": {},
   "source": [
    "## 2. Perform data check"
   ]
  },
  {
   "attachments": {},
   "cell_type": "markdown",
   "metadata": {},
   "source": [
    "### 2.1 Check missing values"
   ]
  },
  {
   "cell_type": "code",
   "execution_count": 486,
   "metadata": {},
   "outputs": [
    {
     "data": {
      "text/plain": [
       "Company             0\n",
       "Product             0\n",
       "TypeName            0\n",
       "Inches              0\n",
       "ScreenResolution    0\n",
       "Cpu                 0\n",
       "Ram                 0\n",
       "Memory              0\n",
       "Gpu                 0\n",
       "OpSys               0\n",
       "Weight              0\n",
       "Price_euros         0\n",
       "dtype: int64"
      ]
     },
     "execution_count": 486,
     "metadata": {},
     "output_type": "execute_result"
    }
   ],
   "source": [
    "df.isna().sum()\n",
    "# There is no missing values"
   ]
  },
  {
   "attachments": {},
   "cell_type": "markdown",
   "metadata": {},
   "source": [
    "### 2.2 Check duplicates values and datatypes"
   ]
  },
  {
   "cell_type": "code",
   "execution_count": 487,
   "metadata": {},
   "outputs": [
    {
     "name": "stdout",
     "output_type": "stream",
     "text": [
      "Number of duplicates: 28\n"
     ]
    }
   ],
   "source": [
    "# check for duplicates\n",
    "duplicates = df[df.duplicated()]\n",
    "\n",
    "# print the number of duplicates\n",
    "print('Number of duplicates:', len(duplicates))"
   ]
  },
  {
   "cell_type": "code",
   "execution_count": 488,
   "metadata": {},
   "outputs": [],
   "source": [
    "df = df[~df.duplicated()]\n"
   ]
  },
  {
   "cell_type": "code",
   "execution_count": 489,
   "metadata": {},
   "outputs": [
    {
     "data": {
      "text/plain": [
       "(1275, 12)"
      ]
     },
     "execution_count": 489,
     "metadata": {},
     "output_type": "execute_result"
    }
   ],
   "source": [
    "# removing duplicate rows\n",
    "df.shape"
   ]
  },
  {
   "cell_type": "code",
   "execution_count": 490,
   "metadata": {},
   "outputs": [
    {
     "name": "stdout",
     "output_type": "stream",
     "text": [
      "Data types of each column:\n",
      "Company              object\n",
      "Product              object\n",
      "TypeName             object\n",
      "Inches              float64\n",
      "ScreenResolution     object\n",
      "Cpu                  object\n",
      "Ram                  object\n",
      "Memory               object\n",
      "Gpu                  object\n",
      "OpSys                object\n",
      "Weight               object\n",
      "Price_euros         float64\n",
      "dtype: object\n"
     ]
    }
   ],
   "source": [
    "# check data types of each column\n",
    "print('Data types of each column:')\n",
    "print(df.dtypes)"
   ]
  },
  {
   "cell_type": "code",
   "execution_count": 491,
   "metadata": {},
   "outputs": [
    {
     "data": {
      "text/html": [
       "<div>\n",
       "<style scoped>\n",
       "    .dataframe tbody tr th:only-of-type {\n",
       "        vertical-align: middle;\n",
       "    }\n",
       "\n",
       "    .dataframe tbody tr th {\n",
       "        vertical-align: top;\n",
       "    }\n",
       "\n",
       "    .dataframe thead th {\n",
       "        text-align: right;\n",
       "    }\n",
       "</style>\n",
       "<table border=\"1\" class=\"dataframe\">\n",
       "  <thead>\n",
       "    <tr style=\"text-align: right;\">\n",
       "      <th></th>\n",
       "      <th>Inches</th>\n",
       "      <th>Price_euros</th>\n",
       "    </tr>\n",
       "  </thead>\n",
       "  <tbody>\n",
       "    <tr>\n",
       "      <th>count</th>\n",
       "      <td>1275.000000</td>\n",
       "      <td>1275.000000</td>\n",
       "    </tr>\n",
       "    <tr>\n",
       "      <th>mean</th>\n",
       "      <td>15.022902</td>\n",
       "      <td>1134.969059</td>\n",
       "    </tr>\n",
       "    <tr>\n",
       "      <th>std</th>\n",
       "      <td>1.429470</td>\n",
       "      <td>700.752504</td>\n",
       "    </tr>\n",
       "    <tr>\n",
       "      <th>min</th>\n",
       "      <td>10.100000</td>\n",
       "      <td>174.000000</td>\n",
       "    </tr>\n",
       "    <tr>\n",
       "      <th>25%</th>\n",
       "      <td>14.000000</td>\n",
       "      <td>609.000000</td>\n",
       "    </tr>\n",
       "    <tr>\n",
       "      <th>50%</th>\n",
       "      <td>15.600000</td>\n",
       "      <td>989.000000</td>\n",
       "    </tr>\n",
       "    <tr>\n",
       "      <th>75%</th>\n",
       "      <td>15.600000</td>\n",
       "      <td>1496.500000</td>\n",
       "    </tr>\n",
       "    <tr>\n",
       "      <th>max</th>\n",
       "      <td>18.400000</td>\n",
       "      <td>6099.000000</td>\n",
       "    </tr>\n",
       "  </tbody>\n",
       "</table>\n",
       "</div>"
      ],
      "text/plain": [
       "            Inches  Price_euros\n",
       "count  1275.000000  1275.000000\n",
       "mean     15.022902  1134.969059\n",
       "std       1.429470   700.752504\n",
       "min      10.100000   174.000000\n",
       "25%      14.000000   609.000000\n",
       "50%      15.600000   989.000000\n",
       "75%      15.600000  1496.500000\n",
       "max      18.400000  6099.000000"
      ]
     },
     "execution_count": 491,
     "metadata": {},
     "output_type": "execute_result"
    }
   ],
   "source": [
    "df.describe()"
   ]
  },
  {
   "cell_type": "markdown",
   "metadata": {},
   "source": [
    "### Insight\n",
    "#### The price of laptop has a very high standard deviation -> the price varies a lot"
   ]
  },
  {
   "attachments": {},
   "cell_type": "markdown",
   "metadata": {},
   "source": [
    "### 2.3 Check unique values and stats"
   ]
  },
  {
   "cell_type": "code",
   "execution_count": 492,
   "metadata": {},
   "outputs": [
    {
     "name": "stdout",
     "output_type": "stream",
     "text": [
      "Column Company has 19 unique values\n",
      "Column Product has 618 unique values\n",
      "Column TypeName has 6 unique values\n",
      "Column ScreenResolution has 40 unique values\n",
      "Column Cpu has 118 unique values\n",
      "Column Ram has 9 unique values\n",
      "Column Memory has 39 unique values\n",
      "Column Gpu has 110 unique values\n",
      "Column OpSys has 9 unique values\n",
      "Column Weight has 179 unique values\n"
     ]
    }
   ],
   "source": [
    "# check number of unique values of categorical column\n",
    "for column in df.columns:\n",
    "    if df[column].dtype == 'O':\n",
    "        unique_values = df[column].nunique()\n",
    "        print('Column', column, 'has', unique_values, 'unique values')"
   ]
  },
  {
   "cell_type": "code",
   "execution_count": 493,
   "metadata": {},
   "outputs": [
    {
     "name": "stdout",
     "output_type": "stream",
     "text": [
      "We have 2 numerical features : ['Inches', 'Price_euros']\n",
      "\n",
      "We have 10 categorical features : ['Company', 'Product', 'TypeName', 'ScreenResolution', 'Cpu', 'Ram', 'Memory', 'Gpu', 'OpSys', 'Weight']\n"
     ]
    }
   ],
   "source": [
    "# define numerical & categorical columns\n",
    "numeric_features = [feature for feature in df.columns if df[feature].dtype != 'O']\n",
    "categorical_features = [feature for feature in df.columns if df[feature].dtype == 'O']\n",
    "\n",
    "# print columns\n",
    "print('We have {} numerical features : {}'.format(len(numeric_features), numeric_features))\n",
    "print('\\nWe have {} categorical features : {}'.format(len(categorical_features), categorical_features))"
   ]
  },
  {
   "attachments": {},
   "cell_type": "markdown",
   "metadata": {},
   "source": [
    "## Feature engineering and visualization"
   ]
  },
  {
   "attachments": {},
   "cell_type": "markdown",
   "metadata": {},
   "source": [
    "##### Explore Company feature"
   ]
  },
  {
   "cell_type": "code",
   "execution_count": 494,
   "metadata": {},
   "outputs": [
    {
     "data": {
      "text/html": [
       "<div>\n",
       "<style scoped>\n",
       "    .dataframe tbody tr th:only-of-type {\n",
       "        vertical-align: middle;\n",
       "    }\n",
       "\n",
       "    .dataframe tbody tr th {\n",
       "        vertical-align: top;\n",
       "    }\n",
       "\n",
       "    .dataframe thead th {\n",
       "        text-align: right;\n",
       "    }\n",
       "</style>\n",
       "<table border=\"1\" class=\"dataframe\">\n",
       "  <thead>\n",
       "    <tr style=\"text-align: right;\">\n",
       "      <th></th>\n",
       "      <th>mean</th>\n",
       "      <th>median</th>\n",
       "      <th>sum</th>\n",
       "      <th>min</th>\n",
       "      <th>max</th>\n",
       "    </tr>\n",
       "    <tr>\n",
       "      <th>Company</th>\n",
       "      <th></th>\n",
       "      <th></th>\n",
       "      <th></th>\n",
       "      <th></th>\n",
       "      <th></th>\n",
       "    </tr>\n",
       "  </thead>\n",
       "  <tbody>\n",
       "    <tr>\n",
       "      <th>Razer</th>\n",
       "      <td>3346.142857</td>\n",
       "      <td>2899.00</td>\n",
       "      <td>23423.00</td>\n",
       "      <td>1029.00</td>\n",
       "      <td>6099.00</td>\n",
       "    </tr>\n",
       "    <tr>\n",
       "      <th>LG</th>\n",
       "      <td>2099.000000</td>\n",
       "      <td>2099.00</td>\n",
       "      <td>6297.00</td>\n",
       "      <td>1899.00</td>\n",
       "      <td>2299.00</td>\n",
       "    </tr>\n",
       "    <tr>\n",
       "      <th>MSI</th>\n",
       "      <td>1728.908148</td>\n",
       "      <td>1599.00</td>\n",
       "      <td>93361.04</td>\n",
       "      <td>839.00</td>\n",
       "      <td>2799.00</td>\n",
       "    </tr>\n",
       "    <tr>\n",
       "      <th>Google</th>\n",
       "      <td>1677.666667</td>\n",
       "      <td>1559.00</td>\n",
       "      <td>5033.00</td>\n",
       "      <td>1275.00</td>\n",
       "      <td>2199.00</td>\n",
       "    </tr>\n",
       "    <tr>\n",
       "      <th>Microsoft</th>\n",
       "      <td>1612.308333</td>\n",
       "      <td>1569.50</td>\n",
       "      <td>9673.85</td>\n",
       "      <td>989.00</td>\n",
       "      <td>2589.00</td>\n",
       "    </tr>\n",
       "    <tr>\n",
       "      <th>Apple</th>\n",
       "      <td>1564.198571</td>\n",
       "      <td>1339.69</td>\n",
       "      <td>32848.17</td>\n",
       "      <td>898.94</td>\n",
       "      <td>2858.00</td>\n",
       "    </tr>\n",
       "    <tr>\n",
       "      <th>Huawei</th>\n",
       "      <td>1424.000000</td>\n",
       "      <td>1424.00</td>\n",
       "      <td>2848.00</td>\n",
       "      <td>1349.00</td>\n",
       "      <td>1499.00</td>\n",
       "    </tr>\n",
       "    <tr>\n",
       "      <th>Samsung</th>\n",
       "      <td>1413.444444</td>\n",
       "      <td>1649.00</td>\n",
       "      <td>12721.00</td>\n",
       "      <td>269.00</td>\n",
       "      <td>1849.00</td>\n",
       "    </tr>\n",
       "    <tr>\n",
       "      <th>Toshiba</th>\n",
       "      <td>1267.812500</td>\n",
       "      <td>1211.50</td>\n",
       "      <td>60855.00</td>\n",
       "      <td>447.00</td>\n",
       "      <td>2799.00</td>\n",
       "    </tr>\n",
       "    <tr>\n",
       "      <th>Dell</th>\n",
       "      <td>1199.225120</td>\n",
       "      <td>999.00</td>\n",
       "      <td>348974.51</td>\n",
       "      <td>274.90</td>\n",
       "      <td>3659.40</td>\n",
       "    </tr>\n",
       "    <tr>\n",
       "      <th>Xiaomi</th>\n",
       "      <td>1133.462500</td>\n",
       "      <td>1099.45</td>\n",
       "      <td>4533.85</td>\n",
       "      <td>935.00</td>\n",
       "      <td>1399.95</td>\n",
       "    </tr>\n",
       "    <tr>\n",
       "      <th>Asus</th>\n",
       "      <td>1123.829737</td>\n",
       "      <td>1049.45</td>\n",
       "      <td>170822.12</td>\n",
       "      <td>191.90</td>\n",
       "      <td>3975.00</td>\n",
       "    </tr>\n",
       "    <tr>\n",
       "      <th>Lenovo</th>\n",
       "      <td>1093.862215</td>\n",
       "      <td>899.00</td>\n",
       "      <td>316126.18</td>\n",
       "      <td>229.00</td>\n",
       "      <td>4899.00</td>\n",
       "    </tr>\n",
       "    <tr>\n",
       "      <th>HP</th>\n",
       "      <td>1080.314664</td>\n",
       "      <td>979.00</td>\n",
       "      <td>289524.33</td>\n",
       "      <td>209.00</td>\n",
       "      <td>4389.00</td>\n",
       "    </tr>\n",
       "    <tr>\n",
       "      <th>Fujitsu</th>\n",
       "      <td>729.000000</td>\n",
       "      <td>739.00</td>\n",
       "      <td>2187.00</td>\n",
       "      <td>649.00</td>\n",
       "      <td>799.00</td>\n",
       "    </tr>\n",
       "    <tr>\n",
       "      <th>Acer</th>\n",
       "      <td>633.464455</td>\n",
       "      <td>572.00</td>\n",
       "      <td>63979.91</td>\n",
       "      <td>174.00</td>\n",
       "      <td>2599.00</td>\n",
       "    </tr>\n",
       "    <tr>\n",
       "      <th>Chuwi</th>\n",
       "      <td>314.296667</td>\n",
       "      <td>248.90</td>\n",
       "      <td>942.89</td>\n",
       "      <td>244.99</td>\n",
       "      <td>449.00</td>\n",
       "    </tr>\n",
       "    <tr>\n",
       "      <th>Mediacom</th>\n",
       "      <td>295.000000</td>\n",
       "      <td>265.00</td>\n",
       "      <td>2065.00</td>\n",
       "      <td>239.00</td>\n",
       "      <td>389.00</td>\n",
       "    </tr>\n",
       "    <tr>\n",
       "      <th>Vero</th>\n",
       "      <td>217.425000</td>\n",
       "      <td>206.85</td>\n",
       "      <td>869.70</td>\n",
       "      <td>196.00</td>\n",
       "      <td>260.00</td>\n",
       "    </tr>\n",
       "  </tbody>\n",
       "</table>\n",
       "</div>"
      ],
      "text/plain": [
       "                  mean   median        sum      min      max\n",
       "Company                                                     \n",
       "Razer      3346.142857  2899.00   23423.00  1029.00  6099.00\n",
       "LG         2099.000000  2099.00    6297.00  1899.00  2299.00\n",
       "MSI        1728.908148  1599.00   93361.04   839.00  2799.00\n",
       "Google     1677.666667  1559.00    5033.00  1275.00  2199.00\n",
       "Microsoft  1612.308333  1569.50    9673.85   989.00  2589.00\n",
       "Apple      1564.198571  1339.69   32848.17   898.94  2858.00\n",
       "Huawei     1424.000000  1424.00    2848.00  1349.00  1499.00\n",
       "Samsung    1413.444444  1649.00   12721.00   269.00  1849.00\n",
       "Toshiba    1267.812500  1211.50   60855.00   447.00  2799.00\n",
       "Dell       1199.225120   999.00  348974.51   274.90  3659.40\n",
       "Xiaomi     1133.462500  1099.45    4533.85   935.00  1399.95\n",
       "Asus       1123.829737  1049.45  170822.12   191.90  3975.00\n",
       "Lenovo     1093.862215   899.00  316126.18   229.00  4899.00\n",
       "HP         1080.314664   979.00  289524.33   209.00  4389.00\n",
       "Fujitsu     729.000000   739.00    2187.00   649.00   799.00\n",
       "Acer        633.464455   572.00   63979.91   174.00  2599.00\n",
       "Chuwi       314.296667   248.90     942.89   244.99   449.00\n",
       "Mediacom    295.000000   265.00    2065.00   239.00   389.00\n",
       "Vero        217.425000   206.85     869.70   196.00   260.00"
      ]
     },
     "execution_count": 494,
     "metadata": {},
     "output_type": "execute_result"
    }
   ],
   "source": [
    "# Try to highlight import info in this griupby\n",
    "df.groupby('Company')['Price_euros'].agg(['mean', 'median', 'sum', 'min', 'max']).sort_values(by='mean', ascending=False)\n",
    "\n"
   ]
  },
  {
   "cell_type": "code",
   "execution_count": 495,
   "metadata": {},
   "outputs": [
    {
     "data": {
      "image/png": "[encoded data removed]",
      "text/plain": [
       "<Figure size 1000x500 with 1 Axes>"
      ]
     },
     "metadata": {},
     "output_type": "display_data"
    }
   ],
   "source": [
    "plt.figure(figsize=(10, 5))\n",
    "# create bar chart\n",
    "plt.barh(df['Company'].value_counts().index, df['Company'].value_counts())\n",
    "# add labels and title\n",
    "plt.xlabel('Num of records')\n",
    "plt.ylabel('Company')\n",
    "plt.title('Laptop in the dataset comes from Which companys')\n",
    "\n",
    "# show the chart\n",
    "plt.show()"
   ]
  },
  {
   "cell_type": "code",
   "execution_count": 496,
   "metadata": {},
   "outputs": [
    {
     "data": {
      "text/plain": [
       "['Samsung',\n",
       " 'Razer',\n",
       " 'Mediacom',\n",
       " 'Microsoft',\n",
       " 'Xiaomi',\n",
       " 'Vero',\n",
       " 'Chuwi',\n",
       " 'Google',\n",
       " 'Fujitsu',\n",
       " 'LG',\n",
       " 'Huawei']"
      ]
     },
     "execution_count": 496,
     "metadata": {},
     "output_type": "execute_result"
    }
   ],
   "source": [
    "## Group any company with under 10 counts into other group\n",
    "other = [company for count, company  in list(zip(df['Company'].value_counts(), df['Company'].value_counts().index)) if count < 10 ]\n",
    "other"
   ]
  },
  {
   "cell_type": "code",
   "execution_count": 497,
   "metadata": {},
   "outputs": [],
   "source": [
    "df.loc[df['Company'].isin(other), 'Company'] = 'Other'"
   ]
  },
  {
   "cell_type": "code",
   "execution_count": 498,
   "metadata": {},
   "outputs": [
    {
     "data": {
      "text/html": [
       "<div>\n",
       "<style scoped>\n",
       "    .dataframe tbody tr th:only-of-type {\n",
       "        vertical-align: middle;\n",
       "    }\n",
       "\n",
       "    .dataframe tbody tr th {\n",
       "        vertical-align: top;\n",
       "    }\n",
       "\n",
       "    .dataframe thead th {\n",
       "        text-align: right;\n",
       "    }\n",
       "</style>\n",
       "<table border=\"1\" class=\"dataframe\">\n",
       "  <thead>\n",
       "    <tr style=\"text-align: right;\">\n",
       "      <th></th>\n",
       "      <th>mean</th>\n",
       "      <th>median</th>\n",
       "      <th>sum</th>\n",
       "      <th>min</th>\n",
       "      <th>max</th>\n",
       "    </tr>\n",
       "    <tr>\n",
       "      <th>Company</th>\n",
       "      <th></th>\n",
       "      <th></th>\n",
       "      <th></th>\n",
       "      <th></th>\n",
       "      <th></th>\n",
       "    </tr>\n",
       "  </thead>\n",
       "  <tbody>\n",
       "    <tr>\n",
       "      <th>MSI</th>\n",
       "      <td>1728.908148</td>\n",
       "      <td>1599.00</td>\n",
       "      <td>93361.04</td>\n",
       "      <td>839.00</td>\n",
       "      <td>2799.0</td>\n",
       "    </tr>\n",
       "    <tr>\n",
       "      <th>Apple</th>\n",
       "      <td>1564.198571</td>\n",
       "      <td>1339.69</td>\n",
       "      <td>32848.17</td>\n",
       "      <td>898.94</td>\n",
       "      <td>2858.0</td>\n",
       "    </tr>\n",
       "    <tr>\n",
       "      <th>Other</th>\n",
       "      <td>1384.201765</td>\n",
       "      <td>1275.00</td>\n",
       "      <td>70594.29</td>\n",
       "      <td>196.00</td>\n",
       "      <td>6099.0</td>\n",
       "    </tr>\n",
       "    <tr>\n",
       "      <th>Toshiba</th>\n",
       "      <td>1267.812500</td>\n",
       "      <td>1211.50</td>\n",
       "      <td>60855.00</td>\n",
       "      <td>447.00</td>\n",
       "      <td>2799.0</td>\n",
       "    </tr>\n",
       "    <tr>\n",
       "      <th>Dell</th>\n",
       "      <td>1199.225120</td>\n",
       "      <td>999.00</td>\n",
       "      <td>348974.51</td>\n",
       "      <td>274.90</td>\n",
       "      <td>3659.4</td>\n",
       "    </tr>\n",
       "    <tr>\n",
       "      <th>Asus</th>\n",
       "      <td>1123.829737</td>\n",
       "      <td>1049.45</td>\n",
       "      <td>170822.12</td>\n",
       "      <td>191.90</td>\n",
       "      <td>3975.0</td>\n",
       "    </tr>\n",
       "    <tr>\n",
       "      <th>Lenovo</th>\n",
       "      <td>1093.862215</td>\n",
       "      <td>899.00</td>\n",
       "      <td>316126.18</td>\n",
       "      <td>229.00</td>\n",
       "      <td>4899.0</td>\n",
       "    </tr>\n",
       "    <tr>\n",
       "      <th>HP</th>\n",
       "      <td>1080.314664</td>\n",
       "      <td>979.00</td>\n",
       "      <td>289524.33</td>\n",
       "      <td>209.00</td>\n",
       "      <td>4389.0</td>\n",
       "    </tr>\n",
       "    <tr>\n",
       "      <th>Acer</th>\n",
       "      <td>633.464455</td>\n",
       "      <td>572.00</td>\n",
       "      <td>63979.91</td>\n",
       "      <td>174.00</td>\n",
       "      <td>2599.0</td>\n",
       "    </tr>\n",
       "  </tbody>\n",
       "</table>\n",
       "</div>"
      ],
      "text/plain": [
       "                mean   median        sum     min     max\n",
       "Company                                                 \n",
       "MSI      1728.908148  1599.00   93361.04  839.00  2799.0\n",
       "Apple    1564.198571  1339.69   32848.17  898.94  2858.0\n",
       "Other    1384.201765  1275.00   70594.29  196.00  6099.0\n",
       "Toshiba  1267.812500  1211.50   60855.00  447.00  2799.0\n",
       "Dell     1199.225120   999.00  348974.51  274.90  3659.4\n",
       "Asus     1123.829737  1049.45  170822.12  191.90  3975.0\n",
       "Lenovo   1093.862215   899.00  316126.18  229.00  4899.0\n",
       "HP       1080.314664   979.00  289524.33  209.00  4389.0\n",
       "Acer      633.464455   572.00   63979.91  174.00  2599.0"
      ]
     },
     "execution_count": 498,
     "metadata": {},
     "output_type": "execute_result"
    }
   ],
   "source": [
    "df.groupby('Company')['Price_euros'].agg(['mean', 'median', 'sum', 'min', 'max']).sort_values(by='mean', ascending=False)"
   ]
  },
  {
   "attachments": {},
   "cell_type": "markdown",
   "metadata": {},
   "source": [
    "#### Explore TypeName and Inches features "
   ]
  },
  {
   "attachments": {},
   "cell_type": "markdown",
   "metadata": {},
   "source": [
    "#### Inches and resolution are two different ways of measuring the size of a display, Products are so diverse, i'll drop product for now"
   ]
  },
  {
   "cell_type": "code",
   "execution_count": 499,
   "metadata": {},
   "outputs": [
    {
     "data": {
      "text/html": [
       "<div>\n",
       "<style scoped>\n",
       "    .dataframe tbody tr th:only-of-type {\n",
       "        vertical-align: middle;\n",
       "    }\n",
       "\n",
       "    .dataframe tbody tr th {\n",
       "        vertical-align: top;\n",
       "    }\n",
       "\n",
       "    .dataframe thead th {\n",
       "        text-align: right;\n",
       "    }\n",
       "</style>\n",
       "<table border=\"1\" class=\"dataframe\">\n",
       "  <thead>\n",
       "    <tr style=\"text-align: right;\">\n",
       "      <th></th>\n",
       "      <th>Company</th>\n",
       "      <th>Product</th>\n",
       "      <th>TypeName</th>\n",
       "      <th>Inches</th>\n",
       "      <th>ScreenResolution</th>\n",
       "      <th>Cpu</th>\n",
       "      <th>Ram</th>\n",
       "      <th>Memory</th>\n",
       "      <th>Gpu</th>\n",
       "      <th>OpSys</th>\n",
       "      <th>Weight</th>\n",
       "      <th>Price_euros</th>\n",
       "    </tr>\n",
       "  </thead>\n",
       "  <tbody>\n",
       "    <tr>\n",
       "      <th>0</th>\n",
       "      <td>Apple</td>\n",
       "      <td>MacBook Pro</td>\n",
       "      <td>Ultrabook</td>\n",
       "      <td>13.3</td>\n",
       "      <td>IPS Panel Retina Display 2560x1600</td>\n",
       "      <td>Intel Core i5 2.3GHz</td>\n",
       "      <td>8GB</td>\n",
       "      <td>128GB SSD</td>\n",
       "      <td>Intel Iris Plus Graphics 640</td>\n",
       "      <td>macOS</td>\n",
       "      <td>1.37kg</td>\n",
       "      <td>1339.69</td>\n",
       "    </tr>\n",
       "    <tr>\n",
       "      <th>1</th>\n",
       "      <td>Apple</td>\n",
       "      <td>Macbook Air</td>\n",
       "      <td>Ultrabook</td>\n",
       "      <td>13.3</td>\n",
       "      <td>1440x900</td>\n",
       "      <td>Intel Core i5 1.8GHz</td>\n",
       "      <td>8GB</td>\n",
       "      <td>128GB Flash Storage</td>\n",
       "      <td>Intel HD Graphics 6000</td>\n",
       "      <td>macOS</td>\n",
       "      <td>1.34kg</td>\n",
       "      <td>898.94</td>\n",
       "    </tr>\n",
       "    <tr>\n",
       "      <th>2</th>\n",
       "      <td>HP</td>\n",
       "      <td>250 G6</td>\n",
       "      <td>Notebook</td>\n",
       "      <td>15.6</td>\n",
       "      <td>Full HD 1920x1080</td>\n",
       "      <td>Intel Core i5 7200U 2.5GHz</td>\n",
       "      <td>8GB</td>\n",
       "      <td>256GB SSD</td>\n",
       "      <td>Intel HD Graphics 620</td>\n",
       "      <td>No OS</td>\n",
       "      <td>1.86kg</td>\n",
       "      <td>575.00</td>\n",
       "    </tr>\n",
       "    <tr>\n",
       "      <th>3</th>\n",
       "      <td>Apple</td>\n",
       "      <td>MacBook Pro</td>\n",
       "      <td>Ultrabook</td>\n",
       "      <td>15.4</td>\n",
       "      <td>IPS Panel Retina Display 2880x1800</td>\n",
       "      <td>Intel Core i7 2.7GHz</td>\n",
       "      <td>16GB</td>\n",
       "      <td>512GB SSD</td>\n",
       "      <td>AMD Radeon Pro 455</td>\n",
       "      <td>macOS</td>\n",
       "      <td>1.83kg</td>\n",
       "      <td>2537.45</td>\n",
       "    </tr>\n",
       "    <tr>\n",
       "      <th>4</th>\n",
       "      <td>Apple</td>\n",
       "      <td>MacBook Pro</td>\n",
       "      <td>Ultrabook</td>\n",
       "      <td>13.3</td>\n",
       "      <td>IPS Panel Retina Display 2560x1600</td>\n",
       "      <td>Intel Core i5 3.1GHz</td>\n",
       "      <td>8GB</td>\n",
       "      <td>256GB SSD</td>\n",
       "      <td>Intel Iris Plus Graphics 650</td>\n",
       "      <td>macOS</td>\n",
       "      <td>1.37kg</td>\n",
       "      <td>1803.60</td>\n",
       "    </tr>\n",
       "  </tbody>\n",
       "</table>\n",
       "</div>"
      ],
      "text/plain": [
       "  Company      Product   TypeName  Inches                    ScreenResolution  \\\n",
       "0   Apple  MacBook Pro  Ultrabook    13.3  IPS Panel Retina Display 2560x1600   \n",
       "1   Apple  Macbook Air  Ultrabook    13.3                            1440x900   \n",
       "2      HP       250 G6   Notebook    15.6                   Full HD 1920x1080   \n",
       "3   Apple  MacBook Pro  Ultrabook    15.4  IPS Panel Retina Display 2880x1800   \n",
       "4   Apple  MacBook Pro  Ultrabook    13.3  IPS Panel Retina Display 2560x1600   \n",
       "\n",
       "                          Cpu   Ram               Memory  \\\n",
       "0        Intel Core i5 2.3GHz   8GB            128GB SSD   \n",
       "1        Intel Core i5 1.8GHz   8GB  128GB Flash Storage   \n",
       "2  Intel Core i5 7200U 2.5GHz   8GB            256GB SSD   \n",
       "3        Intel Core i7 2.7GHz  16GB            512GB SSD   \n",
       "4        Intel Core i5 3.1GHz   8GB            256GB SSD   \n",
       "\n",
       "                            Gpu  OpSys  Weight  Price_euros  \n",
       "0  Intel Iris Plus Graphics 640  macOS  1.37kg      1339.69  \n",
       "1        Intel HD Graphics 6000  macOS  1.34kg       898.94  \n",
       "2         Intel HD Graphics 620  No OS  1.86kg       575.00  \n",
       "3            AMD Radeon Pro 455  macOS  1.83kg      2537.45  \n",
       "4  Intel Iris Plus Graphics 650  macOS  1.37kg      1803.60  "
      ]
     },
     "execution_count": 499,
     "metadata": {},
     "output_type": "execute_result"
    }
   ],
   "source": [
    "df.head()"
   ]
  },
  {
   "cell_type": "code",
   "execution_count": 500,
   "metadata": {},
   "outputs": [
    {
     "data": {
      "text/html": [
       "<div>\n",
       "<style scoped>\n",
       "    .dataframe tbody tr th:only-of-type {\n",
       "        vertical-align: middle;\n",
       "    }\n",
       "\n",
       "    .dataframe tbody tr th {\n",
       "        vertical-align: top;\n",
       "    }\n",
       "\n",
       "    .dataframe thead th {\n",
       "        text-align: right;\n",
       "    }\n",
       "</style>\n",
       "<table border=\"1\" class=\"dataframe\">\n",
       "  <thead>\n",
       "    <tr style=\"text-align: right;\">\n",
       "      <th></th>\n",
       "      <th>mean</th>\n",
       "      <th>median</th>\n",
       "    </tr>\n",
       "    <tr>\n",
       "      <th>Product</th>\n",
       "      <th></th>\n",
       "      <th></th>\n",
       "    </tr>\n",
       "  </thead>\n",
       "  <tbody>\n",
       "    <tr>\n",
       "      <th>Zbook 17</th>\n",
       "      <td>4389.0</td>\n",
       "      <td>4389.0</td>\n",
       "    </tr>\n",
       "    <tr>\n",
       "      <th>Blade Pro</th>\n",
       "      <td>4119.0</td>\n",
       "      <td>3499.0</td>\n",
       "    </tr>\n",
       "    <tr>\n",
       "      <th>ROG G701VO</th>\n",
       "      <td>3975.0</td>\n",
       "      <td>3975.0</td>\n",
       "    </tr>\n",
       "    <tr>\n",
       "      <th>ROG G703VI-E5062T</th>\n",
       "      <td>3890.0</td>\n",
       "      <td>3890.0</td>\n",
       "    </tr>\n",
       "    <tr>\n",
       "      <th>Thinkpad P51s</th>\n",
       "      <td>3299.0</td>\n",
       "      <td>3299.0</td>\n",
       "    </tr>\n",
       "    <tr>\n",
       "      <th>...</th>\n",
       "      <td>...</td>\n",
       "      <td>...</td>\n",
       "    </tr>\n",
       "    <tr>\n",
       "      <th>E402WA-GA010T (E2-6110/2GB/32GB/W10)</th>\n",
       "      <td>199.0</td>\n",
       "      <td>199.0</td>\n",
       "    </tr>\n",
       "    <tr>\n",
       "      <th>Chromebook C910-C2ST</th>\n",
       "      <td>199.0</td>\n",
       "      <td>199.0</td>\n",
       "    </tr>\n",
       "    <tr>\n",
       "      <th>V131 (X5-Z8350/4GB/32GB/FHD/W10)</th>\n",
       "      <td>196.0</td>\n",
       "      <td>196.0</td>\n",
       "    </tr>\n",
       "    <tr>\n",
       "      <th>Vivobook E200HA</th>\n",
       "      <td>191.9</td>\n",
       "      <td>191.9</td>\n",
       "    </tr>\n",
       "    <tr>\n",
       "      <th>C740-C9QX (3205U/2GB/32GB/Chrome</th>\n",
       "      <td>174.0</td>\n",
       "      <td>174.0</td>\n",
       "    </tr>\n",
       "  </tbody>\n",
       "</table>\n",
       "<p>618 rows × 2 columns</p>\n",
       "</div>"
      ],
      "text/plain": [
       "                                        mean  median\n",
       "Product                                             \n",
       "Zbook 17                              4389.0  4389.0\n",
       "Blade Pro                             4119.0  3499.0\n",
       "ROG G701VO                            3975.0  3975.0\n",
       "ROG G703VI-E5062T                     3890.0  3890.0\n",
       "Thinkpad P51s                         3299.0  3299.0\n",
       "...                                      ...     ...\n",
       "E402WA-GA010T (E2-6110/2GB/32GB/W10)   199.0   199.0\n",
       "Chromebook C910-C2ST                   199.0   199.0\n",
       "V131 (X5-Z8350/4GB/32GB/FHD/W10)       196.0   196.0\n",
       "Vivobook E200HA                        191.9   191.9\n",
       "C740-C9QX (3205U/2GB/32GB/Chrome       174.0   174.0\n",
       "\n",
       "[618 rows x 2 columns]"
      ]
     },
     "execution_count": 500,
     "metadata": {},
     "output_type": "execute_result"
    }
   ],
   "source": [
    "product_ranking = df.groupby(['Product'])['Price_euros'].agg(['mean', 'median']).sort_values(by='mean', ascending=False)\n",
    "product_ranking "
   ]
  },
  {
   "cell_type": "code",
   "execution_count": 501,
   "metadata": {},
   "outputs": [],
   "source": [
    "# df['mean_per_product'] = df.groupby('Product')['Price_euros'].transform('mean')\n",
    "# df\n"
   ]
  },
  {
   "cell_type": "code",
   "execution_count": 502,
   "metadata": {},
   "outputs": [
    {
     "data": {
      "text/plain": [
       "0.00     174.0000\n",
       "0.25     556.0000\n",
       "0.75    1475.8325\n",
       "1.00    4389.0000\n",
       "Name: mean, dtype: float64"
      ]
     },
     "execution_count": 502,
     "metadata": {},
     "output_type": "execute_result"
    }
   ],
   "source": [
    "quantiles = product_ranking['mean'].quantile([0, 0.25, 0.75, 1.0])\n",
    "quantiles "
   ]
  },
  {
   "cell_type": "code",
   "execution_count": 503,
   "metadata": {},
   "outputs": [],
   "source": [
    "# def rank_product(x):\n",
    "\n",
    "# conditions = [\n",
    "#     product_ranking['mean'] <= 174.0000,\n",
    "#     174.0000 < product_ranking['mean'] <= 1475.8325,\n",
    "#     1475.8325 < product_ranking['mean'] <= 4389.0000\n",
    "# ]\n",
    "# replacements = ['low cost', 'mid range', 'high end']\n",
    "\n",
    "# product_ranking['product_categpry'] = np.select(conditions, replacements)\n"
   ]
  },
  {
   "cell_type": "code",
   "execution_count": 504,
   "metadata": {},
   "outputs": [
    {
     "data": {
      "text/plain": [
       "<Axes: xlabel='TypeName', ylabel='Price_euros'>"
      ]
     },
     "execution_count": 504,
     "metadata": {},
     "output_type": "execute_result"
    },
    {
     "data": {
      "image/png": "[encoded data removed]",
      "text/plain": [
       "<Figure size 1000x500 with 1 Axes>"
      ]
     },
     "metadata": {},
     "output_type": "display_data"
    }
   ],
   "source": [
    "plt.figure(figsize=(10, 5))\n",
    "sns.barplot(data=df, x=df['TypeName'], y=df['Price_euros'], estimator=np.median)"
   ]
  },
  {
   "attachments": {},
   "cell_type": "markdown",
   "metadata": {},
   "source": [
    "#### Insight\n",
    "##### TypeName can really help in prediction: workstationan and Gaming, Ultrabook type of laptop have the highest median prices"
   ]
  },
  {
   "attachments": {},
   "cell_type": "markdown",
   "metadata": {},
   "source": [
    "##### Create a new features from ScreenResolution feature"
   ]
  },
  {
   "cell_type": "code",
   "execution_count": 505,
   "metadata": {},
   "outputs": [],
   "source": [
    "df[['Width', 'Height']] = df['ScreenResolution'].str.extract(r'(\\d+)x(\\d+)', expand=True)\n",
    "df['Width'] = df['Width'].astype(np.int32)\n",
    "df['Height'] = df['Height'].astype(np.int32)\n",
    "# df['Total number of pixels'] = df['Width'] + df['Heigth']"
   ]
  },
  {
   "cell_type": "code",
   "execution_count": 506,
   "metadata": {},
   "outputs": [
    {
     "name": "stdout",
     "output_type": "stream",
     "text": [
      "0\n",
      "0\n"
     ]
    }
   ],
   "source": [
    "print(df['Width'].isna().sum())\n",
    "print(df['Height'].isna().sum())\n",
    "# print(df['Total number of pixels'].isna().sum())"
   ]
  },
  {
   "cell_type": "code",
   "execution_count": 507,
   "metadata": {},
   "outputs": [],
   "source": [
    "def line_plot(feature, graph_name, axs, col):\n",
    "    plot_df = df.sort_values(by=feature, ascending=True)[[feature, 'Price_euros']]\n",
    "    # create line plot\n",
    "    sns.lineplot(x=plot_df[feature], y=plot_df['Price_euros'], ax=axs[col])\n",
    "\n",
    "    # add labels and title\n",
    "    axs[col].set_xlabel(feature)\n",
    "    axs[col].set_ylabel('Price_euros')\n",
    "    axs[col].set_title(graph_name)\n",
    "\n",
    "# fig, axs = plt.subplots(1, 2, figsize=(10, 5))\n",
    "\n",
    "# line_plot('Width', 'Price and Width relationship', axs, 0)\n",
    "\n",
    "# line_plot('Heigth', 'Price and Heigth relationship', axs, 1)\n",
    "\n",
    "# plt.show()"
   ]
  },
  {
   "cell_type": "code",
   "execution_count": 508,
   "metadata": {},
   "outputs": [
    {
     "data": {
      "text/plain": [
       "<Axes: xlabel='Inches', ylabel='Price_euros'>"
      ]
     },
     "execution_count": 508,
     "metadata": {},
     "output_type": "execute_result"
    },
    {
     "data": {
      "image/png": "[encoded data removed]",
      "text/plain": [
       "<Figure size 640x480 with 1 Axes>"
      ]
     },
     "metadata": {},
     "output_type": "display_data"
    }
   ],
   "source": [
    "plot_df = df.sort_values(by='Inches', ascending=True)[['Inches', 'Price_euros']]\n",
    "sns.lineplot(x=plot_df['Inches'], y=plot_df['Price_euros'])"
   ]
  },
  {
   "cell_type": "code",
   "execution_count": 509,
   "metadata": {},
   "outputs": [],
   "source": [
    "import re\n",
    "df['isTouchscreen'] = df['ScreenResolution'].str.contains('Touchscreen', flags=re.IGNORECASE)\n",
    "# df.loc[df['IsTouchscreen']==True, 'IsTouchscreen'] = 'Yes'\n",
    "# df.loc[df['IsTouchscreen']==False, 'IsTouchscreen'] = 'No'"
   ]
  },
  {
   "cell_type": "code",
   "execution_count": 510,
   "metadata": {},
   "outputs": [
    {
     "data": {
      "text/html": [
       "<div>\n",
       "<style scoped>\n",
       "    .dataframe tbody tr th:only-of-type {\n",
       "        vertical-align: middle;\n",
       "    }\n",
       "\n",
       "    .dataframe tbody tr th {\n",
       "        vertical-align: top;\n",
       "    }\n",
       "\n",
       "    .dataframe thead th {\n",
       "        text-align: right;\n",
       "    }\n",
       "</style>\n",
       "<table border=\"1\" class=\"dataframe\">\n",
       "  <thead>\n",
       "    <tr style=\"text-align: right;\">\n",
       "      <th></th>\n",
       "      <th>Company</th>\n",
       "      <th>Product</th>\n",
       "      <th>TypeName</th>\n",
       "      <th>Inches</th>\n",
       "      <th>ScreenResolution</th>\n",
       "      <th>Cpu</th>\n",
       "      <th>Ram</th>\n",
       "      <th>Memory</th>\n",
       "      <th>Gpu</th>\n",
       "      <th>OpSys</th>\n",
       "      <th>Weight</th>\n",
       "      <th>Price_euros</th>\n",
       "      <th>Width</th>\n",
       "      <th>Height</th>\n",
       "      <th>isTouchscreen</th>\n",
       "    </tr>\n",
       "  </thead>\n",
       "  <tbody>\n",
       "    <tr>\n",
       "      <th>1270</th>\n",
       "      <td>Lenovo</td>\n",
       "      <td>Yoga 500-14ISK</td>\n",
       "      <td>2 in 1 Convertible</td>\n",
       "      <td>14.0</td>\n",
       "      <td>IPS Panel Full HD / Touchscreen 1920x1080</td>\n",
       "      <td>Intel Core i7 6500U 2.5GHz</td>\n",
       "      <td>4GB</td>\n",
       "      <td>128GB SSD</td>\n",
       "      <td>Intel HD Graphics 520</td>\n",
       "      <td>Windows 10</td>\n",
       "      <td>1.8kg</td>\n",
       "      <td>638.0</td>\n",
       "      <td>1920</td>\n",
       "      <td>1080</td>\n",
       "      <td>True</td>\n",
       "    </tr>\n",
       "    <tr>\n",
       "      <th>1271</th>\n",
       "      <td>Lenovo</td>\n",
       "      <td>Yoga 900-13ISK</td>\n",
       "      <td>2 in 1 Convertible</td>\n",
       "      <td>13.3</td>\n",
       "      <td>IPS Panel Quad HD+ / Touchscreen 3200x1800</td>\n",
       "      <td>Intel Core i7 6500U 2.5GHz</td>\n",
       "      <td>16GB</td>\n",
       "      <td>512GB SSD</td>\n",
       "      <td>Intel HD Graphics 520</td>\n",
       "      <td>Windows 10</td>\n",
       "      <td>1.3kg</td>\n",
       "      <td>1499.0</td>\n",
       "      <td>3200</td>\n",
       "      <td>1800</td>\n",
       "      <td>True</td>\n",
       "    </tr>\n",
       "    <tr>\n",
       "      <th>1272</th>\n",
       "      <td>Lenovo</td>\n",
       "      <td>IdeaPad 100S-14IBR</td>\n",
       "      <td>Notebook</td>\n",
       "      <td>14.0</td>\n",
       "      <td>1366x768</td>\n",
       "      <td>Intel Celeron Dual Core N3050 1.6GHz</td>\n",
       "      <td>2GB</td>\n",
       "      <td>64GB Flash Storage</td>\n",
       "      <td>Intel HD Graphics</td>\n",
       "      <td>Windows 10</td>\n",
       "      <td>1.5kg</td>\n",
       "      <td>229.0</td>\n",
       "      <td>1366</td>\n",
       "      <td>768</td>\n",
       "      <td>False</td>\n",
       "    </tr>\n",
       "    <tr>\n",
       "      <th>1273</th>\n",
       "      <td>HP</td>\n",
       "      <td>15-AC110nv (i7-6500U/6GB/1TB/Radeon</td>\n",
       "      <td>Notebook</td>\n",
       "      <td>15.6</td>\n",
       "      <td>1366x768</td>\n",
       "      <td>Intel Core i7 6500U 2.5GHz</td>\n",
       "      <td>6GB</td>\n",
       "      <td>1TB HDD</td>\n",
       "      <td>AMD Radeon R5 M330</td>\n",
       "      <td>Windows 10</td>\n",
       "      <td>2.19kg</td>\n",
       "      <td>764.0</td>\n",
       "      <td>1366</td>\n",
       "      <td>768</td>\n",
       "      <td>False</td>\n",
       "    </tr>\n",
       "    <tr>\n",
       "      <th>1274</th>\n",
       "      <td>Asus</td>\n",
       "      <td>X553SA-XX031T (N3050/4GB/500GB/W10)</td>\n",
       "      <td>Notebook</td>\n",
       "      <td>15.6</td>\n",
       "      <td>1366x768</td>\n",
       "      <td>Intel Celeron Dual Core N3050 1.6GHz</td>\n",
       "      <td>4GB</td>\n",
       "      <td>500GB HDD</td>\n",
       "      <td>Intel HD Graphics</td>\n",
       "      <td>Windows 10</td>\n",
       "      <td>2.2kg</td>\n",
       "      <td>369.0</td>\n",
       "      <td>1366</td>\n",
       "      <td>768</td>\n",
       "      <td>False</td>\n",
       "    </tr>\n",
       "  </tbody>\n",
       "</table>\n",
       "</div>"
      ],
      "text/plain": [
       "     Company                              Product            TypeName  Inches  \\\n",
       "1270  Lenovo                       Yoga 500-14ISK  2 in 1 Convertible    14.0   \n",
       "1271  Lenovo                       Yoga 900-13ISK  2 in 1 Convertible    13.3   \n",
       "1272  Lenovo                   IdeaPad 100S-14IBR            Notebook    14.0   \n",
       "1273      HP  15-AC110nv (i7-6500U/6GB/1TB/Radeon            Notebook    15.6   \n",
       "1274    Asus  X553SA-XX031T (N3050/4GB/500GB/W10)            Notebook    15.6   \n",
       "\n",
       "                                ScreenResolution  \\\n",
       "1270   IPS Panel Full HD / Touchscreen 1920x1080   \n",
       "1271  IPS Panel Quad HD+ / Touchscreen 3200x1800   \n",
       "1272                                    1366x768   \n",
       "1273                                    1366x768   \n",
       "1274                                    1366x768   \n",
       "\n",
       "                                       Cpu   Ram              Memory  \\\n",
       "1270            Intel Core i7 6500U 2.5GHz   4GB           128GB SSD   \n",
       "1271            Intel Core i7 6500U 2.5GHz  16GB           512GB SSD   \n",
       "1272  Intel Celeron Dual Core N3050 1.6GHz   2GB  64GB Flash Storage   \n",
       "1273            Intel Core i7 6500U 2.5GHz   6GB             1TB HDD   \n",
       "1274  Intel Celeron Dual Core N3050 1.6GHz   4GB           500GB HDD   \n",
       "\n",
       "                        Gpu       OpSys  Weight  Price_euros  Width  Height  \\\n",
       "1270  Intel HD Graphics 520  Windows 10   1.8kg        638.0   1920    1080   \n",
       "1271  Intel HD Graphics 520  Windows 10   1.3kg       1499.0   3200    1800   \n",
       "1272      Intel HD Graphics  Windows 10   1.5kg        229.0   1366     768   \n",
       "1273     AMD Radeon R5 M330  Windows 10  2.19kg        764.0   1366     768   \n",
       "1274      Intel HD Graphics  Windows 10   2.2kg        369.0   1366     768   \n",
       "\n",
       "      isTouchscreen  \n",
       "1270           True  \n",
       "1271           True  \n",
       "1272          False  \n",
       "1273          False  \n",
       "1274          False  "
      ]
     },
     "execution_count": 510,
     "metadata": {},
     "output_type": "execute_result"
    }
   ],
   "source": [
    "# df.drop(columns=['IsTouchscreen'], inplace=True)\n",
    "df.tail()"
   ]
  },
  {
   "cell_type": "code",
   "execution_count": 511,
   "metadata": {},
   "outputs": [
    {
     "data": {
      "image/png": "[encoded data removed]",
      "text/plain": [
       "<Figure size 640x480 with 1 Axes>"
      ]
     },
     "metadata": {},
     "output_type": "display_data"
    }
   ],
   "source": [
    "# sns.barplot(data=df, x=df['isTouchscreen'], y=df['Price_euros'], estimator=np.mean)\n",
    "\n",
    "# Create a box plot\n",
    "sns.boxplot(data=df, x='isTouchscreen', y='Price_euros')\n",
    "\n",
    "# Add labels and title\n",
    "plt.xlabel('Touchscreen')\n",
    "plt.ylabel('Price (euros)')\n",
    "plt.title('Distribution of Price by Touchscreen')\n",
    "\n",
    "# Show plot\n",
    "plt.show()"
   ]
  },
  {
   "cell_type": "markdown",
   "metadata": {},
   "source": [
    "#### isTouchScreen feature will be helpful in predicting price"
   ]
  },
  {
   "cell_type": "code",
   "execution_count": 512,
   "metadata": {},
   "outputs": [],
   "source": [
    "df.drop(columns='ScreenResolution', inplace=True)"
   ]
  },
  {
   "attachments": {},
   "cell_type": "markdown",
   "metadata": {},
   "source": [
    "### Create new feature from Cpu"
   ]
  },
  {
   "cell_type": "code",
   "execution_count": 513,
   "metadata": {},
   "outputs": [],
   "source": [
    "df['CpuProducer'] = df['Cpu'].str.extract(r'^(\\w+)', expand=True)\n",
    "df['CpuSpeed (GHz)'] = df['Cpu'].str.extract(r'(\\d\\.\\d*|\\d)GHz', expand=True)"
   ]
  },
  {
   "cell_type": "code",
   "execution_count": 514,
   "metadata": {},
   "outputs": [
    {
     "data": {
      "image/png": "[encoded data removed]",
      "text/plain": [
       "<Figure size 1000x500 with 1 Axes>"
      ]
     },
     "metadata": {},
     "output_type": "display_data"
    }
   ],
   "source": [
    "ordered_speed = df['CpuSpeed (GHz)'].sort_values().unique()\n",
    "plt.figure(figsize=(10, 5))\n",
    "sns.barplot(data=df, x='CpuSpeed (GHz)', y='Price_euros', estimator='median', order=ordered_speed)\n",
    "plt.show()"
   ]
  },
  {
   "cell_type": "code",
   "execution_count": 515,
   "metadata": {},
   "outputs": [
    {
     "data": {
      "image/png": "[encoded data removed]",
      "text/plain": [
       "<Figure size 640x480 with 1 Axes>"
      ]
     },
     "metadata": {},
     "output_type": "display_data"
    }
   ],
   "source": [
    "sns.barplot(data=df, x='CpuProducer', y='Price_euros', estimator='mean')\n",
    "plt.show()\n",
    "\n"
   ]
  },
  {
   "cell_type": "code",
   "execution_count": 516,
   "metadata": {},
   "outputs": [],
   "source": [
    "df.drop(columns='Cpu', inplace=True)"
   ]
  },
  {
   "attachments": {},
   "cell_type": "markdown",
   "metadata": {},
   "source": [
    "### Feature engineering for Memory features"
   ]
  },
  {
   "cell_type": "code",
   "execution_count": 517,
   "metadata": {},
   "outputs": [
    {
     "data": {
      "text/html": [
       "<div>\n",
       "<style scoped>\n",
       "    .dataframe tbody tr th:only-of-type {\n",
       "        vertical-align: middle;\n",
       "    }\n",
       "\n",
       "    .dataframe tbody tr th {\n",
       "        vertical-align: top;\n",
       "    }\n",
       "\n",
       "    .dataframe thead th {\n",
       "        text-align: right;\n",
       "    }\n",
       "</style>\n",
       "<table border=\"1\" class=\"dataframe\">\n",
       "  <thead>\n",
       "    <tr style=\"text-align: right;\">\n",
       "      <th></th>\n",
       "      <th>Company</th>\n",
       "      <th>Product</th>\n",
       "      <th>TypeName</th>\n",
       "      <th>Inches</th>\n",
       "      <th>Ram</th>\n",
       "      <th>Memory</th>\n",
       "      <th>Gpu</th>\n",
       "      <th>OpSys</th>\n",
       "      <th>Weight</th>\n",
       "      <th>Price_euros</th>\n",
       "      <th>Width</th>\n",
       "      <th>Height</th>\n",
       "      <th>isTouchscreen</th>\n",
       "      <th>CpuProducer</th>\n",
       "      <th>CpuSpeed (GHz)</th>\n",
       "    </tr>\n",
       "  </thead>\n",
       "  <tbody>\n",
       "    <tr>\n",
       "      <th>0</th>\n",
       "      <td>Apple</td>\n",
       "      <td>MacBook Pro</td>\n",
       "      <td>Ultrabook</td>\n",
       "      <td>13.3</td>\n",
       "      <td>8GB</td>\n",
       "      <td>128GB SSD</td>\n",
       "      <td>Intel Iris Plus Graphics 640</td>\n",
       "      <td>macOS</td>\n",
       "      <td>1.37kg</td>\n",
       "      <td>1339.69</td>\n",
       "      <td>2560</td>\n",
       "      <td>1600</td>\n",
       "      <td>False</td>\n",
       "      <td>Intel</td>\n",
       "      <td>2.3</td>\n",
       "    </tr>\n",
       "    <tr>\n",
       "      <th>1</th>\n",
       "      <td>Apple</td>\n",
       "      <td>Macbook Air</td>\n",
       "      <td>Ultrabook</td>\n",
       "      <td>13.3</td>\n",
       "      <td>8GB</td>\n",
       "      <td>128GB Flash Storage</td>\n",
       "      <td>Intel HD Graphics 6000</td>\n",
       "      <td>macOS</td>\n",
       "      <td>1.34kg</td>\n",
       "      <td>898.94</td>\n",
       "      <td>1440</td>\n",
       "      <td>900</td>\n",
       "      <td>False</td>\n",
       "      <td>Intel</td>\n",
       "      <td>1.8</td>\n",
       "    </tr>\n",
       "    <tr>\n",
       "      <th>2</th>\n",
       "      <td>HP</td>\n",
       "      <td>250 G6</td>\n",
       "      <td>Notebook</td>\n",
       "      <td>15.6</td>\n",
       "      <td>8GB</td>\n",
       "      <td>256GB SSD</td>\n",
       "      <td>Intel HD Graphics 620</td>\n",
       "      <td>No OS</td>\n",
       "      <td>1.86kg</td>\n",
       "      <td>575.00</td>\n",
       "      <td>1920</td>\n",
       "      <td>1080</td>\n",
       "      <td>False</td>\n",
       "      <td>Intel</td>\n",
       "      <td>2.5</td>\n",
       "    </tr>\n",
       "    <tr>\n",
       "      <th>3</th>\n",
       "      <td>Apple</td>\n",
       "      <td>MacBook Pro</td>\n",
       "      <td>Ultrabook</td>\n",
       "      <td>15.4</td>\n",
       "      <td>16GB</td>\n",
       "      <td>512GB SSD</td>\n",
       "      <td>AMD Radeon Pro 455</td>\n",
       "      <td>macOS</td>\n",
       "      <td>1.83kg</td>\n",
       "      <td>2537.45</td>\n",
       "      <td>2880</td>\n",
       "      <td>1800</td>\n",
       "      <td>False</td>\n",
       "      <td>Intel</td>\n",
       "      <td>2.7</td>\n",
       "    </tr>\n",
       "    <tr>\n",
       "      <th>4</th>\n",
       "      <td>Apple</td>\n",
       "      <td>MacBook Pro</td>\n",
       "      <td>Ultrabook</td>\n",
       "      <td>13.3</td>\n",
       "      <td>8GB</td>\n",
       "      <td>256GB SSD</td>\n",
       "      <td>Intel Iris Plus Graphics 650</td>\n",
       "      <td>macOS</td>\n",
       "      <td>1.37kg</td>\n",
       "      <td>1803.60</td>\n",
       "      <td>2560</td>\n",
       "      <td>1600</td>\n",
       "      <td>False</td>\n",
       "      <td>Intel</td>\n",
       "      <td>3.1</td>\n",
       "    </tr>\n",
       "    <tr>\n",
       "      <th>...</th>\n",
       "      <td>...</td>\n",
       "      <td>...</td>\n",
       "      <td>...</td>\n",
       "      <td>...</td>\n",
       "      <td>...</td>\n",
       "      <td>...</td>\n",
       "      <td>...</td>\n",
       "      <td>...</td>\n",
       "      <td>...</td>\n",
       "      <td>...</td>\n",
       "      <td>...</td>\n",
       "      <td>...</td>\n",
       "      <td>...</td>\n",
       "      <td>...</td>\n",
       "      <td>...</td>\n",
       "    </tr>\n",
       "    <tr>\n",
       "      <th>1270</th>\n",
       "      <td>Lenovo</td>\n",
       "      <td>Yoga 500-14ISK</td>\n",
       "      <td>2 in 1 Convertible</td>\n",
       "      <td>14.0</td>\n",
       "      <td>4GB</td>\n",
       "      <td>128GB SSD</td>\n",
       "      <td>Intel HD Graphics 520</td>\n",
       "      <td>Windows 10</td>\n",
       "      <td>1.8kg</td>\n",
       "      <td>638.00</td>\n",
       "      <td>1920</td>\n",
       "      <td>1080</td>\n",
       "      <td>True</td>\n",
       "      <td>Intel</td>\n",
       "      <td>2.5</td>\n",
       "    </tr>\n",
       "    <tr>\n",
       "      <th>1271</th>\n",
       "      <td>Lenovo</td>\n",
       "      <td>Yoga 900-13ISK</td>\n",
       "      <td>2 in 1 Convertible</td>\n",
       "      <td>13.3</td>\n",
       "      <td>16GB</td>\n",
       "      <td>512GB SSD</td>\n",
       "      <td>Intel HD Graphics 520</td>\n",
       "      <td>Windows 10</td>\n",
       "      <td>1.3kg</td>\n",
       "      <td>1499.00</td>\n",
       "      <td>3200</td>\n",
       "      <td>1800</td>\n",
       "      <td>True</td>\n",
       "      <td>Intel</td>\n",
       "      <td>2.5</td>\n",
       "    </tr>\n",
       "    <tr>\n",
       "      <th>1272</th>\n",
       "      <td>Lenovo</td>\n",
       "      <td>IdeaPad 100S-14IBR</td>\n",
       "      <td>Notebook</td>\n",
       "      <td>14.0</td>\n",
       "      <td>2GB</td>\n",
       "      <td>64GB Flash Storage</td>\n",
       "      <td>Intel HD Graphics</td>\n",
       "      <td>Windows 10</td>\n",
       "      <td>1.5kg</td>\n",
       "      <td>229.00</td>\n",
       "      <td>1366</td>\n",
       "      <td>768</td>\n",
       "      <td>False</td>\n",
       "      <td>Intel</td>\n",
       "      <td>1.6</td>\n",
       "    </tr>\n",
       "    <tr>\n",
       "      <th>1273</th>\n",
       "      <td>HP</td>\n",
       "      <td>15-AC110nv (i7-6500U/6GB/1TB/Radeon</td>\n",
       "      <td>Notebook</td>\n",
       "      <td>15.6</td>\n",
       "      <td>6GB</td>\n",
       "      <td>1TB HDD</td>\n",
       "      <td>AMD Radeon R5 M330</td>\n",
       "      <td>Windows 10</td>\n",
       "      <td>2.19kg</td>\n",
       "      <td>764.00</td>\n",
       "      <td>1366</td>\n",
       "      <td>768</td>\n",
       "      <td>False</td>\n",
       "      <td>Intel</td>\n",
       "      <td>2.5</td>\n",
       "    </tr>\n",
       "    <tr>\n",
       "      <th>1274</th>\n",
       "      <td>Asus</td>\n",
       "      <td>X553SA-XX031T (N3050/4GB/500GB/W10)</td>\n",
       "      <td>Notebook</td>\n",
       "      <td>15.6</td>\n",
       "      <td>4GB</td>\n",
       "      <td>500GB HDD</td>\n",
       "      <td>Intel HD Graphics</td>\n",
       "      <td>Windows 10</td>\n",
       "      <td>2.2kg</td>\n",
       "      <td>369.00</td>\n",
       "      <td>1366</td>\n",
       "      <td>768</td>\n",
       "      <td>False</td>\n",
       "      <td>Intel</td>\n",
       "      <td>1.6</td>\n",
       "    </tr>\n",
       "  </tbody>\n",
       "</table>\n",
       "<p>1275 rows × 15 columns</p>\n",
       "</div>"
      ],
      "text/plain": [
       "     Company                              Product            TypeName  Inches  \\\n",
       "0      Apple                          MacBook Pro           Ultrabook    13.3   \n",
       "1      Apple                          Macbook Air           Ultrabook    13.3   \n",
       "2         HP                               250 G6            Notebook    15.6   \n",
       "3      Apple                          MacBook Pro           Ultrabook    15.4   \n",
       "4      Apple                          MacBook Pro           Ultrabook    13.3   \n",
       "...      ...                                  ...                 ...     ...   \n",
       "1270  Lenovo                       Yoga 500-14ISK  2 in 1 Convertible    14.0   \n",
       "1271  Lenovo                       Yoga 900-13ISK  2 in 1 Convertible    13.3   \n",
       "1272  Lenovo                   IdeaPad 100S-14IBR            Notebook    14.0   \n",
       "1273      HP  15-AC110nv (i7-6500U/6GB/1TB/Radeon            Notebook    15.6   \n",
       "1274    Asus  X553SA-XX031T (N3050/4GB/500GB/W10)            Notebook    15.6   \n",
       "\n",
       "       Ram               Memory                           Gpu       OpSys  \\\n",
       "0      8GB            128GB SSD  Intel Iris Plus Graphics 640       macOS   \n",
       "1      8GB  128GB Flash Storage        Intel HD Graphics 6000       macOS   \n",
       "2      8GB            256GB SSD         Intel HD Graphics 620       No OS   \n",
       "3     16GB            512GB SSD            AMD Radeon Pro 455       macOS   \n",
       "4      8GB            256GB SSD  Intel Iris Plus Graphics 650       macOS   \n",
       "...    ...                  ...                           ...         ...   \n",
       "1270   4GB            128GB SSD         Intel HD Graphics 520  Windows 10   \n",
       "1271  16GB            512GB SSD         Intel HD Graphics 520  Windows 10   \n",
       "1272   2GB   64GB Flash Storage             Intel HD Graphics  Windows 10   \n",
       "1273   6GB              1TB HDD            AMD Radeon R5 M330  Windows 10   \n",
       "1274   4GB            500GB HDD             Intel HD Graphics  Windows 10   \n",
       "\n",
       "      Weight  Price_euros  Width  Height  isTouchscreen CpuProducer  \\\n",
       "0     1.37kg      1339.69   2560    1600          False       Intel   \n",
       "1     1.34kg       898.94   1440     900          False       Intel   \n",
       "2     1.86kg       575.00   1920    1080          False       Intel   \n",
       "3     1.83kg      2537.45   2880    1800          False       Intel   \n",
       "4     1.37kg      1803.60   2560    1600          False       Intel   \n",
       "...      ...          ...    ...     ...            ...         ...   \n",
       "1270   1.8kg       638.00   1920    1080           True       Intel   \n",
       "1271   1.3kg      1499.00   3200    1800           True       Intel   \n",
       "1272   1.5kg       229.00   1366     768          False       Intel   \n",
       "1273  2.19kg       764.00   1366     768          False       Intel   \n",
       "1274   2.2kg       369.00   1366     768          False       Intel   \n",
       "\n",
       "     CpuSpeed (GHz)  \n",
       "0               2.3  \n",
       "1               1.8  \n",
       "2               2.5  \n",
       "3               2.7  \n",
       "4               3.1  \n",
       "...             ...  \n",
       "1270            2.5  \n",
       "1271            2.5  \n",
       "1272            1.6  \n",
       "1273            2.5  \n",
       "1274            1.6  \n",
       "\n",
       "[1275 rows x 15 columns]"
      ]
     },
     "execution_count": 517,
     "metadata": {},
     "output_type": "execute_result"
    }
   ],
   "source": [
    "# sns.barplot(data=df, x='Ram', y='Price_euros', estimator='median')\n",
    "# plt.show()\n",
    "df"
   ]
  },
  {
   "cell_type": "code",
   "execution_count": 518,
   "metadata": {},
   "outputs": [],
   "source": [
    "df[['Memory1', 'Memory2']] = df['Memory'].str.split('+', expand=True)\n",
    "df['Memory1'] = df['Memory1'].str.strip()\n",
    "df['Memory2'] = df['Memory2'].str.strip()"
   ]
  },
  {
   "cell_type": "code",
   "execution_count": 519,
   "metadata": {},
   "outputs": [],
   "source": [
    "df.loc[df['Memory2'].isnull(), 'Memory2'] = '0GB NoType'\n"
   ]
  },
  {
   "cell_type": "code",
   "execution_count": 520,
   "metadata": {},
   "outputs": [],
   "source": [
    "df[['MemorySize1', 'MemoryType1']] = df['Memory1'].str.extract(r'(^\\d+\\.?\\d*\\w{2})\\s(.+)', expand=True)\n",
    "df['MemorySize1'] = df['MemorySize1'].str.strip()\n",
    "df['MemoryType1'] = df['MemoryType1'].str.strip()\n",
    "df[['MemorySize2', 'MemoryType2']] = df['Memory2'].str.extract(r'(^\\d+\\.?\\d*\\w{2})\\s?(.+)', expand=True)\n",
    "df['MemorySize2'] = df['MemorySize2'].str.strip()\n",
    "df['MemoryType2'] = df['MemoryType2'].str.strip()"
   ]
  },
  {
   "attachments": {},
   "cell_type": "markdown",
   "metadata": {},
   "source": [
    "### Test new way of engineering Memory feature"
   ]
  },
  {
   "cell_type": "code",
   "execution_count": 521,
   "metadata": {},
   "outputs": [
    {
     "name": "stderr",
     "output_type": "stream",
     "text": [
      "/var/folders/1g/q13cs_s54gz8b27r5pn3b9t00000gn/T/ipykernel_3605/245866378.py:2: FutureWarning: Setting an item of incompatible dtype is deprecated and will raise an error in a future version of pandas. Value '1024' has dtype incompatible with bool, please explicitly cast to a compatible dtype first.\n",
      "  df.loc[df['isNotTB1']==False, 'isNotTB1'] = 1024\n",
      "/var/folders/1g/q13cs_s54gz8b27r5pn3b9t00000gn/T/ipykernel_3605/245866378.py:4: FutureWarning: Setting an item of incompatible dtype is deprecated and will raise an error in a future version of pandas. Value '1024' has dtype incompatible with bool, please explicitly cast to a compatible dtype first.\n",
      "  df.loc[df['isNotTB2']==False, 'isNotTB2'] = 1024\n"
     ]
    }
   ],
   "source": [
    "df['isNotTB1'] = ~df['MemorySize1'].str.contains('TB')\n",
    "df.loc[df['isNotTB1']==False, 'isNotTB1'] = 1024\n",
    "df['isNotTB2'] = ~df['MemorySize2'].str.contains('TB')\n",
    "df.loc[df['isNotTB2']==False, 'isNotTB2'] = 1024\n"
   ]
  },
  {
   "cell_type": "code",
   "execution_count": 522,
   "metadata": {},
   "outputs": [
    {
     "data": {
      "text/plain": [
       "array(['NoType', 'HDD', 'SSD', 'Hybrid'], dtype=object)"
      ]
     },
     "execution_count": 522,
     "metadata": {},
     "output_type": "execute_result"
    }
   ],
   "source": [
    "df['MemoryType2'].unique()"
   ]
  },
  {
   "cell_type": "code",
   "execution_count": 523,
   "metadata": {},
   "outputs": [],
   "source": [
    "df['MemorySize1'] = df['MemorySize1'].str.extract(r'(\\d+)').astype(np.int32)\n",
    "df['MemorySize2'] = df['MemorySize2'].str.extract(r'(\\d+)').astype(np.int32)\n"
   ]
  },
  {
   "cell_type": "code",
   "execution_count": 524,
   "metadata": {},
   "outputs": [],
   "source": [
    "df['MemorySize1'] = df['MemorySize1'] * df['isNotTB1']\n",
    "df['MemorySize2'] = df['MemorySize2'] * df['isNotTB2']"
   ]
  },
  {
   "cell_type": "code",
   "execution_count": 525,
   "metadata": {},
   "outputs": [],
   "source": [
    "# df[(df['MemorySize1']>0) & (df['MemorySize2']>0)]\n",
    "df.drop(columns=['isNotTB1', 'isNotTB2', 'Memory1', 'Memory2', 'Memory'], inplace=True)"
   ]
  },
  {
   "cell_type": "code",
   "execution_count": 526,
   "metadata": {},
   "outputs": [
    {
     "data": {
      "text/plain": [
       "array(['Intel Iris Plus Graphics 640', 'Intel HD Graphics 6000',\n",
       "       'Intel HD Graphics 620', 'AMD Radeon Pro 455',\n",
       "       'Intel Iris Plus Graphics 650', 'AMD Radeon R5',\n",
       "       'Intel Iris Pro Graphics', 'Nvidia GeForce MX150',\n",
       "       'Intel UHD Graphics 620', 'Intel HD Graphics 520',\n",
       "       'AMD Radeon Pro 555', 'AMD Radeon R5 M430',\n",
       "       'Intel HD Graphics 615', 'AMD Radeon Pro 560',\n",
       "       'Nvidia GeForce 940MX', 'Intel HD Graphics 400',\n",
       "       'Nvidia GeForce GTX 1050', 'AMD Radeon R2', 'AMD Radeon 530',\n",
       "       'Nvidia GeForce 930MX', 'Intel HD Graphics',\n",
       "       'Intel HD Graphics 500', 'Nvidia GeForce 930MX ',\n",
       "       'Nvidia GeForce GTX 1060', 'Nvidia GeForce 150MX',\n",
       "       'Intel Iris Graphics 540', 'AMD Radeon RX 580',\n",
       "       'Nvidia GeForce 920MX', 'AMD Radeon R4 Graphics', 'AMD Radeon 520',\n",
       "       'Nvidia GeForce GTX 1070', 'Nvidia GeForce GTX 1050 Ti',\n",
       "       'Nvidia GeForce MX130', 'AMD R4 Graphics',\n",
       "       'Nvidia GeForce GTX 940MX', 'AMD Radeon RX 560',\n",
       "       'Nvidia GeForce 920M', 'AMD Radeon R7 M445', 'AMD Radeon RX 550',\n",
       "       'Nvidia GeForce GTX 1050M', 'Intel HD Graphics 515',\n",
       "       'AMD Radeon R5 M420', 'Intel HD Graphics 505',\n",
       "       'Nvidia GTX 980 SLI', 'AMD R17M-M1-70', 'Nvidia GeForce GTX 1080',\n",
       "       'Nvidia Quadro M1200', 'Nvidia GeForce 920MX ',\n",
       "       'Nvidia GeForce GTX 950M', 'AMD FirePro W4190M ',\n",
       "       'Nvidia GeForce GTX 980M', 'Intel Iris Graphics 550',\n",
       "       'Nvidia GeForce 930M', 'Intel HD Graphics 630',\n",
       "       'AMD Radeon R5 430', 'Nvidia GeForce GTX 940M',\n",
       "       'Intel HD Graphics 510', 'Intel HD Graphics 405',\n",
       "       'AMD Radeon RX 540', 'Nvidia GeForce GT 940MX',\n",
       "       'AMD FirePro W5130M', 'Nvidia Quadro M2200M', 'AMD Radeon R4',\n",
       "       'Nvidia Quadro M620', 'AMD Radeon R7 M460',\n",
       "       'Intel HD Graphics 530', 'Nvidia GeForce GTX 965M',\n",
       "       'Nvidia GeForce GTX1080', 'Nvidia GeForce GTX1050 Ti',\n",
       "       'Nvidia GeForce GTX 960M', 'AMD Radeon R2 Graphics',\n",
       "       'Nvidia Quadro M620M', 'Nvidia GeForce GTX 970M',\n",
       "       'Nvidia GeForce GTX 960<U+039C>', 'Intel Graphics 620',\n",
       "       'Nvidia GeForce GTX 960', 'AMD Radeon R5 520',\n",
       "       'AMD Radeon R7 M440', 'AMD Radeon R7', 'Nvidia Quadro M520M',\n",
       "       'Nvidia Quadro M2200', 'Nvidia Quadro M2000M',\n",
       "       'Intel HD Graphics 540', 'Nvidia Quadro M1000M', 'AMD Radeon 540',\n",
       "       'Nvidia GeForce GTX 1070M', 'Nvidia GeForce GTX1060',\n",
       "       'Intel HD Graphics 5300', 'AMD Radeon R5 M420X',\n",
       "       'AMD Radeon R7 Graphics', 'Nvidia GeForce 920',\n",
       "       'Nvidia GeForce 940M', 'Nvidia GeForce GTX 930MX',\n",
       "       'AMD Radeon R7 M465', 'AMD Radeon R3', 'Nvidia GeForce GTX 1050Ti',\n",
       "       'AMD Radeon R7 M365X', 'AMD Radeon R9 M385',\n",
       "       'Intel HD Graphics 620 ', 'Nvidia Quadro 3000M',\n",
       "       'Nvidia GeForce GTX 980 ', 'AMD Radeon R5 M330',\n",
       "       'AMD FirePro W4190M', 'AMD FirePro W6150M', 'AMD Radeon R5 M315',\n",
       "       'Nvidia Quadro M500M', 'AMD Radeon R7 M360',\n",
       "       'Nvidia Quadro M3000M', 'Nvidia GeForce 960M', 'ARM Mali T860 MP4'],\n",
       "      dtype=object)"
      ]
     },
     "execution_count": 526,
     "metadata": {},
     "output_type": "execute_result"
    }
   ],
   "source": [
    "df['Gpu'].unique()"
   ]
  },
  {
   "cell_type": "code",
   "execution_count": 527,
   "metadata": {},
   "outputs": [],
   "source": [
    "# memory1 = df[['MemorySize1', 'MemoryType1']]\n",
    "# memory2 = df[['MemorySize2', 'MemoryType2']]\n",
    "\n",
    "# pivoted_memory1 = memory1.pivot(columns='MemoryType1', values='MemorySize1')\n",
    "# pivoted_memory1.fillna(0, inplace=True)\n",
    "\n",
    "# pivoted_memory2 = memory2.pivot(columns='MemoryType2', values='MemorySize2')\n",
    "# pivoted_memory2.drop(columns='NoType', inplace=True)\n",
    "# pivoted_memory2.fillna(0, inplace=True)"
   ]
  },
  {
   "cell_type": "code",
   "execution_count": 528,
   "metadata": {},
   "outputs": [],
   "source": [
    "# combined = pivoted_memory1[['HDD', 'Hybrid', 'SSD']] + pivoted_memory2\n",
    "# combined['Flash Storage'] = pivoted_memory1['Flash Storage']\n",
    "# combined "
   ]
  },
  {
   "cell_type": "code",
   "execution_count": 529,
   "metadata": {},
   "outputs": [],
   "source": [
    "# new_df = df.merge(combined, left_index=True, right_index=True)\n"
   ]
  },
  {
   "cell_type": "code",
   "execution_count": 530,
   "metadata": {},
   "outputs": [],
   "source": [
    "# new_df.drop(columns=['Memory', 'MemorySize1', 'MemorySize2', 'MemoryType1', 'MemoryType2'], inplace=True)"
   ]
  },
  {
   "cell_type": "code",
   "execution_count": 531,
   "metadata": {},
   "outputs": [],
   "source": [
    "# df['MemoryType'] = df['MemoryType1'].str.strip() + ', ' + df['MemoryType2'].str.strip()\n",
    "# df['MemoryType'] = df.apply(lambda x: x['MemoryType1'] if x['MemoryType1'] == x['MemoryType2']\\\n",
    "#                             else x['MemoryType1'] + ', ' + x['MemoryType2'], axis=1)\n",
    "# df['MemoryType'] = df['MemoryType'].str.replace(', NoType', '')"
   ]
  },
  {
   "cell_type": "code",
   "execution_count": 532,
   "metadata": {},
   "outputs": [],
   "source": [
    "# ordered = df['CombinedMemoryCapacity (GB)'].sort_values().unique()\n",
    "# sns.barplot(data=df, x='CombinedMemoryCapacity (GB)', y='Price_euros', estimator='median', order=ordered)\n",
    "# plt.show()"
   ]
  },
  {
   "attachments": {},
   "cell_type": "markdown",
   "metadata": {},
   "source": [
    "### GPU and OPSYS"
   ]
  },
  {
   "cell_type": "code",
   "execution_count": 533,
   "metadata": {},
   "outputs": [],
   "source": [
    "df['GpuProducer'] = df['Gpu'].str.extract(r'(^\\w+)')"
   ]
  },
  {
   "cell_type": "code",
   "execution_count": 534,
   "metadata": {},
   "outputs": [
    {
     "data": {
      "text/plain": [
       "GpuProducer\n",
       "Intel     704\n",
       "Nvidia    396\n",
       "AMD       174\n",
       "ARM         1\n",
       "Name: count, dtype: int64"
      ]
     },
     "execution_count": 534,
     "metadata": {},
     "output_type": "execute_result"
    }
   ],
   "source": [
    "df['GpuProducer'].value_counts()"
   ]
  },
  {
   "cell_type": "code",
   "execution_count": 535,
   "metadata": {},
   "outputs": [],
   "source": [
    "# Because there is only 1 ARm and this could affect the model so will be removed\n",
    "df = df[df['GpuProducer']!='ARM']"
   ]
  },
  {
   "cell_type": "code",
   "execution_count": 536,
   "metadata": {},
   "outputs": [
    {
     "data": {
      "image/png": "[encoded data removed]",
      "text/plain": [
       "<Figure size 640x480 with 1 Axes>"
      ]
     },
     "metadata": {},
     "output_type": "display_data"
    }
   ],
   "source": [
    "# sns.barplot(data=df, x='GpuProducer', y='Price_euros', estimator='mean')\n",
    "# plt.show()\n",
    "\n",
    "# Create a box plot\n",
    "sns.boxplot(data=df, x='GpuProducer', y='Price_euros')\n",
    "\n",
    "# Add labels and title\n",
    "plt.xlabel('GpuProducer')\n",
    "plt.ylabel('Price (euros)')\n",
    "plt.title('Distribution of Price by Touchscreen')\n",
    "\n",
    "# Show plot\n",
    "plt.show()"
   ]
  },
  {
   "cell_type": "code",
   "execution_count": 537,
   "metadata": {},
   "outputs": [],
   "source": [
    "# group Windows 10 S and Android into Other category while Mac 0S X to macOS\n",
    "# otherOpSys = ['Windows 10 S', 'Android']\n",
    "# df.loc[df['OpSys'].isin(otherOpSys), 'OpSys'] = 'Other'\n",
    "# df.loc[df['OpSys'] == 'Mac OS X', 'OpSys'] = 'macOS'\n"
   ]
  },
  {
   "cell_type": "code",
   "execution_count": 538,
   "metadata": {},
   "outputs": [
    {
     "name": "stderr",
     "output_type": "stream",
     "text": [
      "/var/folders/1g/q13cs_s54gz8b27r5pn3b9t00000gn/T/ipykernel_3605/4167867468.py:2: SettingWithCopyWarning: \n",
      "A value is trying to be set on a copy of a slice from a DataFrame\n",
      "\n",
      "See the caveats in the documentation: https://pandas.pydata.org/pandas-docs/stable/user_guide/indexing.html#returning-a-view-versus-a-copy\n",
      "  df.drop(columns=['Gpu', 'OpSys'], inplace=True)\n"
     ]
    }
   ],
   "source": [
    "# i just dropn Opsys without anything done on it\n",
    "df.drop(columns=['Gpu', 'OpSys'], inplace=True)"
   ]
  },
  {
   "cell_type": "code",
   "execution_count": 539,
   "metadata": {},
   "outputs": [
    {
     "data": {
      "text/plain": [
       "iinfo(min=0, max=255, dtype=uint8)"
      ]
     },
     "execution_count": 539,
     "metadata": {},
     "output_type": "execute_result"
    }
   ],
   "source": [
    "np.iinfo(np.uint8)"
   ]
  },
  {
   "attachments": {},
   "cell_type": "markdown",
   "metadata": {},
   "source": [
    "### Preparing Ram and Weight features"
   ]
  },
  {
   "cell_type": "code",
   "execution_count": 540,
   "metadata": {},
   "outputs": [
    {
     "name": "stderr",
     "output_type": "stream",
     "text": [
      "/var/folders/1g/q13cs_s54gz8b27r5pn3b9t00000gn/T/ipykernel_3605/213564305.py:1: SettingWithCopyWarning: \n",
      "A value is trying to be set on a copy of a slice from a DataFrame.\n",
      "Try using .loc[row_indexer,col_indexer] = value instead\n",
      "\n",
      "See the caveats in the documentation: https://pandas.pydata.org/pandas-docs/stable/user_guide/indexing.html#returning-a-view-versus-a-copy\n",
      "  df['Ram (GB)'] = df['Ram'].str.replace('GB', '').astype(np.uint8)\n",
      "/var/folders/1g/q13cs_s54gz8b27r5pn3b9t00000gn/T/ipykernel_3605/213564305.py:2: SettingWithCopyWarning: \n",
      "A value is trying to be set on a copy of a slice from a DataFrame.\n",
      "Try using .loc[row_indexer,col_indexer] = value instead\n",
      "\n",
      "See the caveats in the documentation: https://pandas.pydata.org/pandas-docs/stable/user_guide/indexing.html#returning-a-view-versus-a-copy\n",
      "  df['Weight (kg)'] = df['Weight'].str.replace('kg', '').astype(float).round(1).astype(np.float16)\n"
     ]
    }
   ],
   "source": [
    "df['Ram (GB)'] = df['Ram'].str.replace('GB', '').astype(np.uint8)\n",
    "df['Weight (kg)'] = df['Weight'].str.replace('kg', '')\n",
    "\n"
   ]
  },
  {
   "cell_type": "code",
   "execution_count": 541,
   "metadata": {},
   "outputs": [
    {
     "name": "stderr",
     "output_type": "stream",
     "text": [
      "/var/folders/1g/q13cs_s54gz8b27r5pn3b9t00000gn/T/ipykernel_3605/1233981048.py:1: SettingWithCopyWarning: \n",
      "A value is trying to be set on a copy of a slice from a DataFrame\n",
      "\n",
      "See the caveats in the documentation: https://pandas.pydata.org/pandas-docs/stable/user_guide/indexing.html#returning-a-view-versus-a-copy\n",
      "  df.drop(columns=['Ram', 'Weight', 'Product'], inplace=True)\n"
     ]
    }
   ],
   "source": [
    "df.drop(columns=['Ram', 'Weight', 'Product'], inplace=True)"
   ]
  },
  {
   "cell_type": "code",
   "execution_count": 542,
   "metadata": {},
   "outputs": [],
   "source": [
    "# Define the new column order\n",
    "new_order = [*df.columns[:3], *df.columns[4:], df.columns[3]]\n",
    "\n",
    "# Use the reindex method to create a new DataFrame with the columns in the new order\n",
    "cleaned_df = df.reindex(columns=new_order)"
   ]
  },
  {
   "cell_type": "code",
   "execution_count": 543,
   "metadata": {},
   "outputs": [
    {
     "data": {
      "text/html": [
       "<div>\n",
       "<style scoped>\n",
       "    .dataframe tbody tr th:only-of-type {\n",
       "        vertical-align: middle;\n",
       "    }\n",
       "\n",
       "    .dataframe tbody tr th {\n",
       "        vertical-align: top;\n",
       "    }\n",
       "\n",
       "    .dataframe thead th {\n",
       "        text-align: right;\n",
       "    }\n",
       "</style>\n",
       "<table border=\"1\" class=\"dataframe\">\n",
       "  <thead>\n",
       "    <tr style=\"text-align: right;\">\n",
       "      <th></th>\n",
       "      <th>Company</th>\n",
       "      <th>TypeName</th>\n",
       "      <th>Inches</th>\n",
       "      <th>Width</th>\n",
       "      <th>Height</th>\n",
       "      <th>isTouchscreen</th>\n",
       "      <th>CpuProducer</th>\n",
       "      <th>CpuSpeed (GHz)</th>\n",
       "      <th>MemorySize1</th>\n",
       "      <th>MemoryType1</th>\n",
       "      <th>MemorySize2</th>\n",
       "      <th>MemoryType2</th>\n",
       "      <th>GpuProducer</th>\n",
       "      <th>Ram (GB)</th>\n",
       "      <th>Weight (kg)</th>\n",
       "      <th>Price_euros</th>\n",
       "    </tr>\n",
       "  </thead>\n",
       "  <tbody>\n",
       "    <tr>\n",
       "      <th>0</th>\n",
       "      <td>Apple</td>\n",
       "      <td>Ultrabook</td>\n",
       "      <td>13.3</td>\n",
       "      <td>2560</td>\n",
       "      <td>1600</td>\n",
       "      <td>False</td>\n",
       "      <td>Intel</td>\n",
       "      <td>2.3</td>\n",
       "      <td>128</td>\n",
       "      <td>SSD</td>\n",
       "      <td>0</td>\n",
       "      <td>NoType</td>\n",
       "      <td>Intel</td>\n",
       "      <td>8</td>\n",
       "      <td>1.400391</td>\n",
       "      <td>1339.69</td>\n",
       "    </tr>\n",
       "    <tr>\n",
       "      <th>1</th>\n",
       "      <td>Apple</td>\n",
       "      <td>Ultrabook</td>\n",
       "      <td>13.3</td>\n",
       "      <td>1440</td>\n",
       "      <td>900</td>\n",
       "      <td>False</td>\n",
       "      <td>Intel</td>\n",
       "      <td>1.8</td>\n",
       "      <td>128</td>\n",
       "      <td>Flash Storage</td>\n",
       "      <td>0</td>\n",
       "      <td>NoType</td>\n",
       "      <td>Intel</td>\n",
       "      <td>8</td>\n",
       "      <td>1.299805</td>\n",
       "      <td>898.94</td>\n",
       "    </tr>\n",
       "    <tr>\n",
       "      <th>2</th>\n",
       "      <td>HP</td>\n",
       "      <td>Notebook</td>\n",
       "      <td>15.6</td>\n",
       "      <td>1920</td>\n",
       "      <td>1080</td>\n",
       "      <td>False</td>\n",
       "      <td>Intel</td>\n",
       "      <td>2.5</td>\n",
       "      <td>256</td>\n",
       "      <td>SSD</td>\n",
       "      <td>0</td>\n",
       "      <td>NoType</td>\n",
       "      <td>Intel</td>\n",
       "      <td>8</td>\n",
       "      <td>1.900391</td>\n",
       "      <td>575.00</td>\n",
       "    </tr>\n",
       "    <tr>\n",
       "      <th>3</th>\n",
       "      <td>Apple</td>\n",
       "      <td>Ultrabook</td>\n",
       "      <td>15.4</td>\n",
       "      <td>2880</td>\n",
       "      <td>1800</td>\n",
       "      <td>False</td>\n",
       "      <td>Intel</td>\n",
       "      <td>2.7</td>\n",
       "      <td>512</td>\n",
       "      <td>SSD</td>\n",
       "      <td>0</td>\n",
       "      <td>NoType</td>\n",
       "      <td>AMD</td>\n",
       "      <td>16</td>\n",
       "      <td>1.799805</td>\n",
       "      <td>2537.45</td>\n",
       "    </tr>\n",
       "    <tr>\n",
       "      <th>4</th>\n",
       "      <td>Apple</td>\n",
       "      <td>Ultrabook</td>\n",
       "      <td>13.3</td>\n",
       "      <td>2560</td>\n",
       "      <td>1600</td>\n",
       "      <td>False</td>\n",
       "      <td>Intel</td>\n",
       "      <td>3.1</td>\n",
       "      <td>256</td>\n",
       "      <td>SSD</td>\n",
       "      <td>0</td>\n",
       "      <td>NoType</td>\n",
       "      <td>Intel</td>\n",
       "      <td>8</td>\n",
       "      <td>1.400391</td>\n",
       "      <td>1803.60</td>\n",
       "    </tr>\n",
       "    <tr>\n",
       "      <th>...</th>\n",
       "      <td>...</td>\n",
       "      <td>...</td>\n",
       "      <td>...</td>\n",
       "      <td>...</td>\n",
       "      <td>...</td>\n",
       "      <td>...</td>\n",
       "      <td>...</td>\n",
       "      <td>...</td>\n",
       "      <td>...</td>\n",
       "      <td>...</td>\n",
       "      <td>...</td>\n",
       "      <td>...</td>\n",
       "      <td>...</td>\n",
       "      <td>...</td>\n",
       "      <td>...</td>\n",
       "      <td>...</td>\n",
       "    </tr>\n",
       "    <tr>\n",
       "      <th>1270</th>\n",
       "      <td>Lenovo</td>\n",
       "      <td>2 in 1 Convertible</td>\n",
       "      <td>14.0</td>\n",
       "      <td>1920</td>\n",
       "      <td>1080</td>\n",
       "      <td>True</td>\n",
       "      <td>Intel</td>\n",
       "      <td>2.5</td>\n",
       "      <td>128</td>\n",
       "      <td>SSD</td>\n",
       "      <td>0</td>\n",
       "      <td>NoType</td>\n",
       "      <td>Intel</td>\n",
       "      <td>4</td>\n",
       "      <td>1.799805</td>\n",
       "      <td>638.00</td>\n",
       "    </tr>\n",
       "    <tr>\n",
       "      <th>1271</th>\n",
       "      <td>Lenovo</td>\n",
       "      <td>2 in 1 Convertible</td>\n",
       "      <td>13.3</td>\n",
       "      <td>3200</td>\n",
       "      <td>1800</td>\n",
       "      <td>True</td>\n",
       "      <td>Intel</td>\n",
       "      <td>2.5</td>\n",
       "      <td>512</td>\n",
       "      <td>SSD</td>\n",
       "      <td>0</td>\n",
       "      <td>NoType</td>\n",
       "      <td>Intel</td>\n",
       "      <td>16</td>\n",
       "      <td>1.299805</td>\n",
       "      <td>1499.00</td>\n",
       "    </tr>\n",
       "    <tr>\n",
       "      <th>1272</th>\n",
       "      <td>Lenovo</td>\n",
       "      <td>Notebook</td>\n",
       "      <td>14.0</td>\n",
       "      <td>1366</td>\n",
       "      <td>768</td>\n",
       "      <td>False</td>\n",
       "      <td>Intel</td>\n",
       "      <td>1.6</td>\n",
       "      <td>64</td>\n",
       "      <td>Flash Storage</td>\n",
       "      <td>0</td>\n",
       "      <td>NoType</td>\n",
       "      <td>Intel</td>\n",
       "      <td>2</td>\n",
       "      <td>1.500000</td>\n",
       "      <td>229.00</td>\n",
       "    </tr>\n",
       "    <tr>\n",
       "      <th>1273</th>\n",
       "      <td>HP</td>\n",
       "      <td>Notebook</td>\n",
       "      <td>15.6</td>\n",
       "      <td>1366</td>\n",
       "      <td>768</td>\n",
       "      <td>False</td>\n",
       "      <td>Intel</td>\n",
       "      <td>2.5</td>\n",
       "      <td>1024</td>\n",
       "      <td>HDD</td>\n",
       "      <td>0</td>\n",
       "      <td>NoType</td>\n",
       "      <td>AMD</td>\n",
       "      <td>6</td>\n",
       "      <td>2.199219</td>\n",
       "      <td>764.00</td>\n",
       "    </tr>\n",
       "    <tr>\n",
       "      <th>1274</th>\n",
       "      <td>Asus</td>\n",
       "      <td>Notebook</td>\n",
       "      <td>15.6</td>\n",
       "      <td>1366</td>\n",
       "      <td>768</td>\n",
       "      <td>False</td>\n",
       "      <td>Intel</td>\n",
       "      <td>1.6</td>\n",
       "      <td>500</td>\n",
       "      <td>HDD</td>\n",
       "      <td>0</td>\n",
       "      <td>NoType</td>\n",
       "      <td>Intel</td>\n",
       "      <td>4</td>\n",
       "      <td>2.199219</td>\n",
       "      <td>369.00</td>\n",
       "    </tr>\n",
       "  </tbody>\n",
       "</table>\n",
       "<p>1274 rows × 16 columns</p>\n",
       "</div>"
      ],
      "text/plain": [
       "     Company            TypeName  Inches  Width  Height  isTouchscreen  \\\n",
       "0      Apple           Ultrabook    13.3   2560    1600          False   \n",
       "1      Apple           Ultrabook    13.3   1440     900          False   \n",
       "2         HP            Notebook    15.6   1920    1080          False   \n",
       "3      Apple           Ultrabook    15.4   2880    1800          False   \n",
       "4      Apple           Ultrabook    13.3   2560    1600          False   \n",
       "...      ...                 ...     ...    ...     ...            ...   \n",
       "1270  Lenovo  2 in 1 Convertible    14.0   1920    1080           True   \n",
       "1271  Lenovo  2 in 1 Convertible    13.3   3200    1800           True   \n",
       "1272  Lenovo            Notebook    14.0   1366     768          False   \n",
       "1273      HP            Notebook    15.6   1366     768          False   \n",
       "1274    Asus            Notebook    15.6   1366     768          False   \n",
       "\n",
       "     CpuProducer CpuSpeed (GHz) MemorySize1    MemoryType1 MemorySize2  \\\n",
       "0          Intel            2.3         128            SSD           0   \n",
       "1          Intel            1.8         128  Flash Storage           0   \n",
       "2          Intel            2.5         256            SSD           0   \n",
       "3          Intel            2.7         512            SSD           0   \n",
       "4          Intel            3.1         256            SSD           0   \n",
       "...          ...            ...         ...            ...         ...   \n",
       "1270       Intel            2.5         128            SSD           0   \n",
       "1271       Intel            2.5         512            SSD           0   \n",
       "1272       Intel            1.6          64  Flash Storage           0   \n",
       "1273       Intel            2.5        1024            HDD           0   \n",
       "1274       Intel            1.6         500            HDD           0   \n",
       "\n",
       "     MemoryType2 GpuProducer  Ram (GB)  Weight (kg)  Price_euros  \n",
       "0         NoType       Intel         8     1.400391      1339.69  \n",
       "1         NoType       Intel         8     1.299805       898.94  \n",
       "2         NoType       Intel         8     1.900391       575.00  \n",
       "3         NoType         AMD        16     1.799805      2537.45  \n",
       "4         NoType       Intel         8     1.400391      1803.60  \n",
       "...          ...         ...       ...          ...          ...  \n",
       "1270      NoType       Intel         4     1.799805       638.00  \n",
       "1271      NoType       Intel        16     1.299805      1499.00  \n",
       "1272      NoType       Intel         2     1.500000       229.00  \n",
       "1273      NoType         AMD         6     2.199219       764.00  \n",
       "1274      NoType       Intel         4     2.199219       369.00  \n",
       "\n",
       "[1274 rows x 16 columns]"
      ]
     },
     "execution_count": 543,
     "metadata": {},
     "output_type": "execute_result"
    }
   ],
   "source": [
    "cleaned_df"
   ]
  },
  {
   "attachments": {},
   "cell_type": "markdown",
   "metadata": {},
   "source": [
    "### Save cleaned data"
   ]
  },
  {
   "cell_type": "code",
   "execution_count": 544,
   "metadata": {},
   "outputs": [
    {
     "data": {
      "text/plain": [
       "Company            object\n",
       "TypeName           object\n",
       "Inches            float64\n",
       "Width               int32\n",
       "Height              int32\n",
       "isTouchscreen        bool\n",
       "CpuProducer        object\n",
       "CpuSpeed (GHz)     object\n",
       "MemorySize1        object\n",
       "MemoryType1        object\n",
       "MemorySize2        object\n",
       "MemoryType2        object\n",
       "GpuProducer        object\n",
       "Ram (GB)            uint8\n",
       "Weight (kg)       float16\n",
       "Price_euros       float64\n",
       "dtype: object"
      ]
     },
     "execution_count": 544,
     "metadata": {},
     "output_type": "execute_result"
    }
   ],
   "source": [
    "cleaned_df.dtypes"
   ]
  },
  {
   "cell_type": "code",
   "execution_count": 545,
   "metadata": {},
   "outputs": [],
   "source": [
    "cleaned_df['MemorySize1'] = cleaned_df['MemorySize1'].astype(np.int32)\n",
    "cleaned_df['MemorySize2'] = cleaned_df['MemorySize2'].astype(np.int32)\n",
    "\n"
   ]
  },
  {
   "cell_type": "code",
   "execution_count": 546,
   "metadata": {},
   "outputs": [
    {
     "data": {
      "text/html": [
       "<div>\n",
       "<style scoped>\n",
       "    .dataframe tbody tr th:only-of-type {\n",
       "        vertical-align: middle;\n",
       "    }\n",
       "\n",
       "    .dataframe tbody tr th {\n",
       "        vertical-align: top;\n",
       "    }\n",
       "\n",
       "    .dataframe thead th {\n",
       "        text-align: right;\n",
       "    }\n",
       "</style>\n",
       "<table border=\"1\" class=\"dataframe\">\n",
       "  <thead>\n",
       "    <tr style=\"text-align: right;\">\n",
       "      <th></th>\n",
       "      <th>Company</th>\n",
       "      <th>TypeName</th>\n",
       "      <th>Inches</th>\n",
       "      <th>Width</th>\n",
       "      <th>Height</th>\n",
       "      <th>isTouchscreen</th>\n",
       "      <th>CpuProducer</th>\n",
       "      <th>CpuSpeed (GHz)</th>\n",
       "      <th>MemorySize1</th>\n",
       "      <th>MemoryType1</th>\n",
       "      <th>MemorySize2</th>\n",
       "      <th>MemoryType2</th>\n",
       "      <th>GpuProducer</th>\n",
       "      <th>Ram (GB)</th>\n",
       "      <th>Weight (kg)</th>\n",
       "      <th>Price_euros</th>\n",
       "    </tr>\n",
       "  </thead>\n",
       "  <tbody>\n",
       "    <tr>\n",
       "      <th>0</th>\n",
       "      <td>Apple</td>\n",
       "      <td>Ultrabook</td>\n",
       "      <td>13.3</td>\n",
       "      <td>2560</td>\n",
       "      <td>1600</td>\n",
       "      <td>False</td>\n",
       "      <td>Intel</td>\n",
       "      <td>2.3</td>\n",
       "      <td>128</td>\n",
       "      <td>SSD</td>\n",
       "      <td>0</td>\n",
       "      <td>NoType</td>\n",
       "      <td>Intel</td>\n",
       "      <td>8</td>\n",
       "      <td>1.400391</td>\n",
       "      <td>1339.69</td>\n",
       "    </tr>\n",
       "    <tr>\n",
       "      <th>1</th>\n",
       "      <td>Apple</td>\n",
       "      <td>Ultrabook</td>\n",
       "      <td>13.3</td>\n",
       "      <td>1440</td>\n",
       "      <td>900</td>\n",
       "      <td>False</td>\n",
       "      <td>Intel</td>\n",
       "      <td>1.8</td>\n",
       "      <td>128</td>\n",
       "      <td>Flash Storage</td>\n",
       "      <td>0</td>\n",
       "      <td>NoType</td>\n",
       "      <td>Intel</td>\n",
       "      <td>8</td>\n",
       "      <td>1.299805</td>\n",
       "      <td>898.94</td>\n",
       "    </tr>\n",
       "    <tr>\n",
       "      <th>2</th>\n",
       "      <td>HP</td>\n",
       "      <td>Notebook</td>\n",
       "      <td>15.6</td>\n",
       "      <td>1920</td>\n",
       "      <td>1080</td>\n",
       "      <td>False</td>\n",
       "      <td>Intel</td>\n",
       "      <td>2.5</td>\n",
       "      <td>256</td>\n",
       "      <td>SSD</td>\n",
       "      <td>0</td>\n",
       "      <td>NoType</td>\n",
       "      <td>Intel</td>\n",
       "      <td>8</td>\n",
       "      <td>1.900391</td>\n",
       "      <td>575.00</td>\n",
       "    </tr>\n",
       "    <tr>\n",
       "      <th>3</th>\n",
       "      <td>Apple</td>\n",
       "      <td>Ultrabook</td>\n",
       "      <td>15.4</td>\n",
       "      <td>2880</td>\n",
       "      <td>1800</td>\n",
       "      <td>False</td>\n",
       "      <td>Intel</td>\n",
       "      <td>2.7</td>\n",
       "      <td>512</td>\n",
       "      <td>SSD</td>\n",
       "      <td>0</td>\n",
       "      <td>NoType</td>\n",
       "      <td>AMD</td>\n",
       "      <td>16</td>\n",
       "      <td>1.799805</td>\n",
       "      <td>2537.45</td>\n",
       "    </tr>\n",
       "    <tr>\n",
       "      <th>4</th>\n",
       "      <td>Apple</td>\n",
       "      <td>Ultrabook</td>\n",
       "      <td>13.3</td>\n",
       "      <td>2560</td>\n",
       "      <td>1600</td>\n",
       "      <td>False</td>\n",
       "      <td>Intel</td>\n",
       "      <td>3.1</td>\n",
       "      <td>256</td>\n",
       "      <td>SSD</td>\n",
       "      <td>0</td>\n",
       "      <td>NoType</td>\n",
       "      <td>Intel</td>\n",
       "      <td>8</td>\n",
       "      <td>1.400391</td>\n",
       "      <td>1803.60</td>\n",
       "    </tr>\n",
       "    <tr>\n",
       "      <th>...</th>\n",
       "      <td>...</td>\n",
       "      <td>...</td>\n",
       "      <td>...</td>\n",
       "      <td>...</td>\n",
       "      <td>...</td>\n",
       "      <td>...</td>\n",
       "      <td>...</td>\n",
       "      <td>...</td>\n",
       "      <td>...</td>\n",
       "      <td>...</td>\n",
       "      <td>...</td>\n",
       "      <td>...</td>\n",
       "      <td>...</td>\n",
       "      <td>...</td>\n",
       "      <td>...</td>\n",
       "      <td>...</td>\n",
       "    </tr>\n",
       "    <tr>\n",
       "      <th>1270</th>\n",
       "      <td>Lenovo</td>\n",
       "      <td>2 in 1 Convertible</td>\n",
       "      <td>14.0</td>\n",
       "      <td>1920</td>\n",
       "      <td>1080</td>\n",
       "      <td>True</td>\n",
       "      <td>Intel</td>\n",
       "      <td>2.5</td>\n",
       "      <td>128</td>\n",
       "      <td>SSD</td>\n",
       "      <td>0</td>\n",
       "      <td>NoType</td>\n",
       "      <td>Intel</td>\n",
       "      <td>4</td>\n",
       "      <td>1.799805</td>\n",
       "      <td>638.00</td>\n",
       "    </tr>\n",
       "    <tr>\n",
       "      <th>1271</th>\n",
       "      <td>Lenovo</td>\n",
       "      <td>2 in 1 Convertible</td>\n",
       "      <td>13.3</td>\n",
       "      <td>3200</td>\n",
       "      <td>1800</td>\n",
       "      <td>True</td>\n",
       "      <td>Intel</td>\n",
       "      <td>2.5</td>\n",
       "      <td>512</td>\n",
       "      <td>SSD</td>\n",
       "      <td>0</td>\n",
       "      <td>NoType</td>\n",
       "      <td>Intel</td>\n",
       "      <td>16</td>\n",
       "      <td>1.299805</td>\n",
       "      <td>1499.00</td>\n",
       "    </tr>\n",
       "    <tr>\n",
       "      <th>1272</th>\n",
       "      <td>Lenovo</td>\n",
       "      <td>Notebook</td>\n",
       "      <td>14.0</td>\n",
       "      <td>1366</td>\n",
       "      <td>768</td>\n",
       "      <td>False</td>\n",
       "      <td>Intel</td>\n",
       "      <td>1.6</td>\n",
       "      <td>64</td>\n",
       "      <td>Flash Storage</td>\n",
       "      <td>0</td>\n",
       "      <td>NoType</td>\n",
       "      <td>Intel</td>\n",
       "      <td>2</td>\n",
       "      <td>1.500000</td>\n",
       "      <td>229.00</td>\n",
       "    </tr>\n",
       "    <tr>\n",
       "      <th>1273</th>\n",
       "      <td>HP</td>\n",
       "      <td>Notebook</td>\n",
       "      <td>15.6</td>\n",
       "      <td>1366</td>\n",
       "      <td>768</td>\n",
       "      <td>False</td>\n",
       "      <td>Intel</td>\n",
       "      <td>2.5</td>\n",
       "      <td>1024</td>\n",
       "      <td>HDD</td>\n",
       "      <td>0</td>\n",
       "      <td>NoType</td>\n",
       "      <td>AMD</td>\n",
       "      <td>6</td>\n",
       "      <td>2.199219</td>\n",
       "      <td>764.00</td>\n",
       "    </tr>\n",
       "    <tr>\n",
       "      <th>1274</th>\n",
       "      <td>Asus</td>\n",
       "      <td>Notebook</td>\n",
       "      <td>15.6</td>\n",
       "      <td>1366</td>\n",
       "      <td>768</td>\n",
       "      <td>False</td>\n",
       "      <td>Intel</td>\n",
       "      <td>1.6</td>\n",
       "      <td>500</td>\n",
       "      <td>HDD</td>\n",
       "      <td>0</td>\n",
       "      <td>NoType</td>\n",
       "      <td>Intel</td>\n",
       "      <td>4</td>\n",
       "      <td>2.199219</td>\n",
       "      <td>369.00</td>\n",
       "    </tr>\n",
       "  </tbody>\n",
       "</table>\n",
       "<p>1274 rows × 16 columns</p>\n",
       "</div>"
      ],
      "text/plain": [
       "     Company            TypeName  Inches  Width  Height  isTouchscreen  \\\n",
       "0      Apple           Ultrabook    13.3   2560    1600          False   \n",
       "1      Apple           Ultrabook    13.3   1440     900          False   \n",
       "2         HP            Notebook    15.6   1920    1080          False   \n",
       "3      Apple           Ultrabook    15.4   2880    1800          False   \n",
       "4      Apple           Ultrabook    13.3   2560    1600          False   \n",
       "...      ...                 ...     ...    ...     ...            ...   \n",
       "1270  Lenovo  2 in 1 Convertible    14.0   1920    1080           True   \n",
       "1271  Lenovo  2 in 1 Convertible    13.3   3200    1800           True   \n",
       "1272  Lenovo            Notebook    14.0   1366     768          False   \n",
       "1273      HP            Notebook    15.6   1366     768          False   \n",
       "1274    Asus            Notebook    15.6   1366     768          False   \n",
       "\n",
       "     CpuProducer CpuSpeed (GHz)  MemorySize1    MemoryType1  MemorySize2  \\\n",
       "0          Intel            2.3          128            SSD            0   \n",
       "1          Intel            1.8          128  Flash Storage            0   \n",
       "2          Intel            2.5          256            SSD            0   \n",
       "3          Intel            2.7          512            SSD            0   \n",
       "4          Intel            3.1          256            SSD            0   \n",
       "...          ...            ...          ...            ...          ...   \n",
       "1270       Intel            2.5          128            SSD            0   \n",
       "1271       Intel            2.5          512            SSD            0   \n",
       "1272       Intel            1.6           64  Flash Storage            0   \n",
       "1273       Intel            2.5         1024            HDD            0   \n",
       "1274       Intel            1.6          500            HDD            0   \n",
       "\n",
       "     MemoryType2 GpuProducer  Ram (GB)  Weight (kg)  Price_euros  \n",
       "0         NoType       Intel         8     1.400391      1339.69  \n",
       "1         NoType       Intel         8     1.299805       898.94  \n",
       "2         NoType       Intel         8     1.900391       575.00  \n",
       "3         NoType         AMD        16     1.799805      2537.45  \n",
       "4         NoType       Intel         8     1.400391      1803.60  \n",
       "...          ...         ...       ...          ...          ...  \n",
       "1270      NoType       Intel         4     1.799805       638.00  \n",
       "1271      NoType       Intel        16     1.299805      1499.00  \n",
       "1272      NoType       Intel         2     1.500000       229.00  \n",
       "1273      NoType         AMD         6     2.199219       764.00  \n",
       "1274      NoType       Intel         4     2.199219       369.00  \n",
       "\n",
       "[1274 rows x 16 columns]"
      ]
     },
     "execution_count": 546,
     "metadata": {},
     "output_type": "execute_result"
    }
   ],
   "source": [
    "cleaned_df"
   ]
  },
  {
   "cell_type": "code",
   "execution_count": 547,
   "metadata": {},
   "outputs": [],
   "source": [
    "cleaned_df.to_csv('data/cleaned_data.csv', index=False)"
   ]
  }
 ],
 "metadata": {
  "kernelspec": {
   "display_name": "venv",
   "language": "python",
   "name": "python3"
  },
  "language_info": {
   "codemirror_mode": {
    "name": "ipython",
    "version": 3
   },
   "file_extension": ".py",
   "mimetype": "text/x-python",
   "name": "python",
   "nbconvert_exporter": "python",
   "pygments_lexer": "ipython3",
   "version": "3.11.1"
  },
  "orig_nbformat": 4
 },
 "nbformat": 4,
 "nbformat_minor": 2
}
